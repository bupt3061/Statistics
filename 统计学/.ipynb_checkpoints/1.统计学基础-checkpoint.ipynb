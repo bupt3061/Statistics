{
 "cells": [
  {
   "cell_type": "markdown",
   "metadata": {},
   "source": [
    "## 1 描述统计"
   ]
  },
  {
   "cell_type": "markdown",
   "metadata": {},
   "source": [
    "### 1.1 连续变量\n",
    "**集中趋势**  \n",
    "* 均值  \n",
    "    适用于**单峰和基本对称数据**的集中趋势度量，它不适用于**严重偏态**分布的数据。由于考虑了所有信息，均值的抗异常性最好。\n",
    "* 中位数  \n",
    "    由于中位数只考虑居中位置，对信息的利用不充分，所以只有当**均值不能使用的情况下**才会用中位数加以描述\n",
    "* 其他  \n",
    "    几何平均数：当数据本身是比率时使用几何平均数（G=lg<sup>-1</sup>(∑X/n)）  \n",
    "    截尾平均数：由于均值易受极端值影响所以一般考虑去掉两端数据再计算，通常两端各去掉5%的数据  \n",
    "    众数：频率最大的数，一般很少使用  \n",
    "    \n",
    "**离散程度**  \n",
    "* 全距  \n",
    "    一般只适用于预备性检查  \n",
    "* 方差和标准差  \n",
    "    总体方差：σ<sup>2</sup>=Σ(X-μ)<sup>2</sup>/n  \n",
    "    样本方差：s<sup>2</sup>=Σ(X-$\\bar x$)<sup>2</sup>/n-1   \n",
    "    方差和标准差适用于正态分布数据，当数据有**明显的极端值**时不宜使用。  \n",
    "* 分位数\n",
    "    四分距既排除了极端值的影响，有反映了较多数据的离散程度，当方差和标准差不宜使用时能较好地描述离散程度\n",
    "* 变异系数\n",
    "    当需要比较两组数据的离散程度时可以使用变异系数来度量，CV=S/$\\bar X$\n",
    "\n",
    "**分布特征**\n",
    "* 峰度(K)\n",
    "    K=0：标准正态分布    \n",
    "    K<0：分布不足  \n",
    "    K>0：分布过度  \n",
    "* 偏度(SK) \n",
    "    |SK|>1：高度偏态  \n",
    "    0.5<|SK|<1：中等偏态  \n",
    "    |SK|<0.5：低等偏态  "
   ]
  },
  {
   "cell_type": "markdown",
   "metadata": {},
   "source": [
    "### 1.2 离散变量\n",
    "**集中趋势**\n",
    "* 众数\n",
    "\n",
    "**离散程度**\n",
    "* 异众比率"
   ]
  },
  {
   "cell_type": "code",
   "execution_count": 970,
   "metadata": {},
   "outputs": [],
   "source": [
    "import numpy as np\n",
    "import pandas as pd\n",
    "from pandas import Series, DataFrame"
   ]
  },
  {
   "cell_type": "code",
   "execution_count": 982,
   "metadata": {},
   "outputs": [
    {
     "data": {
      "text/html": [
       "<div>\n",
       "<style scoped>\n",
       "    .dataframe tbody tr th:only-of-type {\n",
       "        vertical-align: middle;\n",
       "    }\n",
       "\n",
       "    .dataframe tbody tr th {\n",
       "        vertical-align: top;\n",
       "    }\n",
       "\n",
       "    .dataframe thead th {\n",
       "        text-align: right;\n",
       "    }\n",
       "</style>\n",
       "<table border=\"1\" class=\"dataframe\">\n",
       "  <thead>\n",
       "    <tr style=\"text-align: right;\">\n",
       "      <th></th>\n",
       "      <th>A</th>\n",
       "      <th>B</th>\n",
       "      <th>C</th>\n",
       "      <th>D</th>\n",
       "      <th>E</th>\n",
       "    </tr>\n",
       "  </thead>\n",
       "  <tbody>\n",
       "    <tr>\n",
       "      <th>0</th>\n",
       "      <td>4</td>\n",
       "      <td>8</td>\n",
       "      <td>9</td>\n",
       "      <td>8</td>\n",
       "      <td>3</td>\n",
       "    </tr>\n",
       "    <tr>\n",
       "      <th>1</th>\n",
       "      <td>8</td>\n",
       "      <td>0</td>\n",
       "      <td>2</td>\n",
       "      <td>8</td>\n",
       "      <td>6</td>\n",
       "    </tr>\n",
       "    <tr>\n",
       "      <th>2</th>\n",
       "      <td>0</td>\n",
       "      <td>8</td>\n",
       "      <td>9</td>\n",
       "      <td>2</td>\n",
       "      <td>2</td>\n",
       "    </tr>\n",
       "    <tr>\n",
       "      <th>3</th>\n",
       "      <td>8</td>\n",
       "      <td>6</td>\n",
       "      <td>6</td>\n",
       "      <td>3</td>\n",
       "      <td>3</td>\n",
       "    </tr>\n",
       "  </tbody>\n",
       "</table>\n",
       "</div>"
      ],
      "text/plain": [
       "   A  B  C  D  E\n",
       "0  4  8  9  8  3\n",
       "1  8  0  2  8  6\n",
       "2  0  8  9  2  2\n",
       "3  8  6  6  3  3"
      ]
     },
     "execution_count": 982,
     "metadata": {},
     "output_type": "execute_result"
    }
   ],
   "source": [
    "data = DataFrame(np.random.randint(0, 10, (4, 5)), columns=list('ABCDE'))\n",
    "data"
   ]
  },
  {
   "cell_type": "code",
   "execution_count": 989,
   "metadata": {},
   "outputs": [
    {
     "data": {
      "text/html": [
       "<div>\n",
       "<style scoped>\n",
       "    .dataframe tbody tr th:only-of-type {\n",
       "        vertical-align: middle;\n",
       "    }\n",
       "\n",
       "    .dataframe tbody tr th {\n",
       "        vertical-align: top;\n",
       "    }\n",
       "\n",
       "    .dataframe thead th {\n",
       "        text-align: right;\n",
       "    }\n",
       "</style>\n",
       "<table border=\"1\" class=\"dataframe\">\n",
       "  <thead>\n",
       "    <tr style=\"text-align: right;\">\n",
       "      <th></th>\n",
       "      <th>0</th>\n",
       "      <th>1</th>\n",
       "      <th>2</th>\n",
       "      <th>3</th>\n",
       "    </tr>\n",
       "  </thead>\n",
       "  <tbody>\n",
       "    <tr>\n",
       "      <th>count</th>\n",
       "      <td>5.000000</td>\n",
       "      <td>5.00000</td>\n",
       "      <td>5.000000</td>\n",
       "      <td>5.000000</td>\n",
       "    </tr>\n",
       "    <tr>\n",
       "      <th>mean</th>\n",
       "      <td>6.400000</td>\n",
       "      <td>4.80000</td>\n",
       "      <td>4.200000</td>\n",
       "      <td>5.200000</td>\n",
       "    </tr>\n",
       "    <tr>\n",
       "      <th>std</th>\n",
       "      <td>2.701851</td>\n",
       "      <td>3.63318</td>\n",
       "      <td>4.024922</td>\n",
       "      <td>2.167948</td>\n",
       "    </tr>\n",
       "    <tr>\n",
       "      <th>min</th>\n",
       "      <td>3.000000</td>\n",
       "      <td>0.00000</td>\n",
       "      <td>0.000000</td>\n",
       "      <td>3.000000</td>\n",
       "    </tr>\n",
       "    <tr>\n",
       "      <th>25%</th>\n",
       "      <td>4.000000</td>\n",
       "      <td>2.00000</td>\n",
       "      <td>2.000000</td>\n",
       "      <td>3.000000</td>\n",
       "    </tr>\n",
       "    <tr>\n",
       "      <th>50%</th>\n",
       "      <td>8.000000</td>\n",
       "      <td>6.00000</td>\n",
       "      <td>2.000000</td>\n",
       "      <td>6.000000</td>\n",
       "    </tr>\n",
       "    <tr>\n",
       "      <th>75%</th>\n",
       "      <td>8.000000</td>\n",
       "      <td>8.00000</td>\n",
       "      <td>8.000000</td>\n",
       "      <td>6.000000</td>\n",
       "    </tr>\n",
       "    <tr>\n",
       "      <th>max</th>\n",
       "      <td>9.000000</td>\n",
       "      <td>8.00000</td>\n",
       "      <td>9.000000</td>\n",
       "      <td>8.000000</td>\n",
       "    </tr>\n",
       "  </tbody>\n",
       "</table>\n",
       "</div>"
      ],
      "text/plain": [
       "              0        1         2         3\n",
       "count  5.000000  5.00000  5.000000  5.000000\n",
       "mean   6.400000  4.80000  4.200000  5.200000\n",
       "std    2.701851  3.63318  4.024922  2.167948\n",
       "min    3.000000  0.00000  0.000000  3.000000\n",
       "25%    4.000000  2.00000  2.000000  3.000000\n",
       "50%    8.000000  6.00000  2.000000  6.000000\n",
       "75%    8.000000  8.00000  8.000000  6.000000\n",
       "max    9.000000  8.00000  9.000000  8.000000"
      ]
     },
     "execution_count": 989,
     "metadata": {},
     "output_type": "execute_result"
    }
   ],
   "source": [
    "# 描述统计\n",
    "data.T.describe()"
   ]
  },
  {
   "cell_type": "code",
   "execution_count": 987,
   "metadata": {},
   "outputs": [
    {
     "data": {
      "text/plain": [
       "0   -0.577990\n",
       "1   -0.567163\n",
       "2    0.447827\n",
       "3    0.068699\n",
       "dtype: float64"
      ]
     },
     "execution_count": 987,
     "metadata": {},
     "output_type": "execute_result"
    }
   ],
   "source": [
    "# 偏度\n",
    "data.skew(axis=1)"
   ]
  },
  {
   "cell_type": "code",
   "execution_count": 988,
   "metadata": {},
   "outputs": [
    {
     "data": {
      "text/plain": [
       "0   -2.707825\n",
       "1   -2.231405\n",
       "2   -2.773205\n",
       "3   -1.824355\n",
       "dtype: float64"
      ]
     },
     "execution_count": 988,
     "metadata": {},
     "output_type": "execute_result"
    }
   ],
   "source": [
    "# 峰度\n",
    "data.kurt(axis=1)"
   ]
  },
  {
   "cell_type": "markdown",
   "metadata": {},
   "source": [
    "## 2 概率论"
   ]
  },
  {
   "cell_type": "markdown",
   "metadata": {},
   "source": [
    "### 2.1 基本概念"
   ]
  },
  {
   "cell_type": "markdown",
   "metadata": {},
   "source": [
    "**常用公式**\n",
    "* 加法公式：P(A∪B) = P(A) + P(B) - P(A∩B)  \n",
    "* 乘法公式：P(A∩B) = P(B|A)×P(A)  \n",
    "* 条件概率：P(A|B) = P(A∩B) / P(B)  \n",
    "* 贝叶斯公式：P(A|B) = P(B|A)×P(A) / P(B)\n",
    "    P(A)：A的先验概率，A发生的概率越低，误判的可能性越大，所以应当尽可能的搜集信息以“提高”A的概率  \n",
    "    P(A|B)：A的后验概率  \n",
    "    P(B)：B的先验概率  \n",
    "    P(B|A)：B的后验概率  \n",
    "\n",
    "**运算法则**  \n",
    "\n",
    "| 统计量                                         | 公式                                              |\n",
    "| ---------------------------------------------- | ------------------------------------------------- |\n",
    "| E(aX+b)                                        | aE(X)+b                                           |\n",
    "| Var(aX+b)                                      | a<sup>2</sup>Var(X)                               |\n",
    "| E(X)                                           | ∑xp(X=x)                                          |\n",
    "| E(f(x))                                        | ∑f(x)p(X=x)                                       |\n",
    "| Var(aX-bY)                                     | a<sup>2</sup>Var(X)+b<sup>2</sup>Var(Y)           |\n",
    "| Var(X)                                         | E(X-μ)<sup>2</sup>=E(X<sup>2</sup>)-μ<sup>2</sup> |\n",
    "| E(aX-bY)                                       | aE(X)-bE(Y)                                       |\n",
    "| E(x<sub>1</sub>+x<sub>2</sub>+x<sub>3</sub>)   | 3E(X)                                             |\n",
    "| Var(x<sub>1</sub>+x<sub>2</sub>+x<sub>3</sub>) | 3Var(X)                                           |\n",
    "| E(X<sup>2</sup>)                               | ∑x<sup>2</sup>p(X=x)                              |\n",
    "| Var(aX-b)                                      | a<sup>2</sup>Var(X)                               |"
   ]
  },
  {
   "cell_type": "markdown",
   "metadata": {},
   "source": [
    "### 2.2 离散型随机变量"
   ]
  },
  {
   "cell_type": "code",
   "execution_count": 1385,
   "metadata": {},
   "outputs": [],
   "source": [
    "%matplotlib inline\n",
    "import matplotlib.pyplot as plt\n",
    "import seaborn; seaborn.set()\n",
    "import numpy as np\n",
    "import pandas as pd\n",
    "from pandas import DataFrame, Series\n",
    "import random\n",
    "np.random.seed(0)"
   ]
  },
  {
   "cell_type": "markdown",
   "metadata": {},
   "source": [
    "**二项分布**  \n",
    "二项分布的期望E(X)=np，方差Var(X)=npq。且当np>5，nq>5时可以用正态分布来近似二项分布\n",
    "* 试验由一系列相同的n个试验组成\n",
    "* 每次试验有两种可能的结果，成功或者失败\n",
    "* 每次试验成功的概率是相同的，用p来表示\n",
    "* 试验是相互独立的"
   ]
  },
  {
   "cell_type": "code",
   "execution_count": 1478,
   "metadata": {},
   "outputs": [],
   "source": [
    "binomial_distribution_1 = Series(np.random.binomial(n=10, p=0.2, size=1000))  # n:试验次数；p:成功概率；size:抽样次数\n",
    "binomial_distribution_2 = Series(np.random.binomial(n=15, p=0.5, size=1000))  # n:试验次数；p:成功概率；size:抽样次数"
   ]
  },
  {
   "cell_type": "code",
   "execution_count": 1479,
   "metadata": {},
   "outputs": [
    {
     "data": {
      "text/plain": [
       "KstestResult(statistic=0.10239241193073045, pvalue=1.3980515510680523e-09)"
      ]
     },
     "execution_count": 1479,
     "metadata": {},
     "output_type": "execute_result"
    }
   ],
   "source": [
    "stats.kstest(binomial_distribution_2, 'norm', (binomial_distribution_2.mean(), binomial_distribution_2.std()))"
   ]
  },
  {
   "cell_type": "code",
   "execution_count": 1480,
   "metadata": {},
   "outputs": [
    {
     "name": "stdout",
     "output_type": "stream",
     "text": [
      "mean =  2.027\n",
      "var =  1.6218928928928955\n"
     ]
    }
   ],
   "source": [
    "print('mean = ', binomial_distribution_1.mean())\n",
    "print('var = ', binomial_distribution_1.var())"
   ]
  },
  {
   "cell_type": "code",
   "execution_count": 1481,
   "metadata": {},
   "outputs": [
    {
     "data": {
      "text/plain": [
       "Text(0.5, 1.0, 'Binomial distribution')"
      ]
     },
     "execution_count": 1481,
     "metadata": {},
     "output_type": "execute_result"
    },
    {
     "data": {
      "image/png": "[encoded data removed]",
      "text/plain": [
       "<Figure size 432x288 with 1 Axes>"
      ]
     },
     "metadata": {},
     "output_type": "display_data"
    }
   ],
   "source": [
    "plt.hist(binomial_distribution_1, color=\"green\", edgecolor='black', bins=8, alpha=0.7)\n",
    "plt.hist(binomial_distribution_2, color=\"red\", edgecolor='black', bins=12, alpha=0.7)\n",
    "plt.xlabel('success number')\n",
    "plt.ylabel('number')\n",
    "plt.title('Binomial distribution')"
   ]
  },
  {
   "cell_type": "markdown",
   "metadata": {},
   "source": [
    "**泊松分布**\n",
    "* 泊松分布的期望和方差均等于λ\n",
    "* 当p<0.05，n>20时可以用泊松分布近似二项分布\n",
    "* 当λ>=5时，可以用正态分布近似泊松分布"
   ]
  },
  {
   "cell_type": "code",
   "execution_count": 1529,
   "metadata": {},
   "outputs": [],
   "source": [
    "poisoon_distribution_1 = np.random.poisson(lam=2, size=1000)  # lam:区间的期望\n",
    "poisoon_distribution_2 = np.random.poisson(lam=20, size=1000)  # lam:区间的期望\n",
    "binomial_distribution = np.random.binomial(n=50, p=0.04, size=1000)"
   ]
  },
  {
   "cell_type": "code",
   "execution_count": 1532,
   "metadata": {},
   "outputs": [
    {
     "name": "stdout",
     "output_type": "stream",
     "text": [
      "mean =  2.054\n",
      "var =  2.047084\n"
     ]
    }
   ],
   "source": [
    "print('mean = ', poisoon_distribution_1.mean())\n",
    "print('var = ', poisoon_distribution_1.var())"
   ]
  },
  {
   "cell_type": "code",
   "execution_count": 1525,
   "metadata": {},
   "outputs": [
    {
     "data": {
      "text/plain": [
       "KstestResult(statistic=0.06349909789018382, pvalue=0.0005997779288900098)"
      ]
     },
     "execution_count": 1525,
     "metadata": {},
     "output_type": "execute_result"
    }
   ],
   "source": [
    "stats.kstest(poisoon_distribution_2, 'norm', (poisoon_distribution_2.mean(), poisoon_distribution_2.std()))"
   ]
  },
  {
   "cell_type": "code",
   "execution_count": 1531,
   "metadata": {},
   "outputs": [
    {
     "data": {
      "text/plain": [
       "(array([139., 238., 294., 202.,  79.,  33.,  10.,   5.]),\n",
       " array([0., 1., 2., 3., 4., 5., 6., 7., 8.]),\n",
       " <a list of 8 Patch objects>)"
      ]
     },
     "execution_count": 1531,
     "metadata": {},
     "output_type": "execute_result"
    },
    {
     "data": {
      "image/png": "[encoded data removed]",
      "text/plain": [
       "<Figure size 432x288 with 1 Axes>"
      ]
     },
     "metadata": {},
     "output_type": "display_data"
    }
   ],
   "source": [
    "plt.hist(poisoon_distribution_1, bins=8)\n",
    "plt.hist(binomial_distribution, bins=8, alpha=0.7)"
   ]
  },
  {
   "cell_type": "code",
   "execution_count": 1541,
   "metadata": {},
   "outputs": [
    {
     "data": {
      "text/plain": [
       "Text(0, 0.5, 'number')"
      ]
     },
     "execution_count": 1541,
     "metadata": {},
     "output_type": "execute_result"
    },
    {
     "data": {
      "image/png": "[encoded data removed]",
      "text/plain": [
       "<Figure size 432x288 with 1 Axes>"
      ]
     },
     "metadata": {},
     "output_type": "display_data"
    }
   ],
   "source": [
    "plt.hist(poisoon_distribution_2, bins=12)\n",
    "plt.title('Distribution of poisson')\n",
    "plt.ylabel('number')"
   ]
  },
  {
   "cell_type": "markdown",
   "metadata": {},
   "source": [
    "### 2.3 连续型随机变量"
   ]
  },
  {
   "cell_type": "markdown",
   "metadata": {},
   "source": [
    "**指数分布**  \n",
    "* 指数分布的期望E(X)=1/λ，方差Var(X)=(1/λ)<sup>2</sup>\n",
    "* 指数分布是泊松分布的时间间隔"
   ]
  },
  {
   "cell_type": "markdown",
   "metadata": {},
   "source": [
    "某公交站，每小时平均停靠4辆车，求1）每小时至少停靠3辆车的概率，2）到达车站后，15分钟内来一辆车的概率"
   ]
  },
  {
   "cell_type": "code",
   "execution_count": 1578,
   "metadata": {},
   "outputs": [],
   "source": [
    "expo_distribution = np.random.exponential(scale=0.25, size=1000)  # scale:1/λ\n",
    "poisson_distribution = np.random.poisson(lam=4, size=1000)"
   ]
  },
  {
   "cell_type": "code",
   "execution_count": 1585,
   "metadata": {},
   "outputs": [
    {
     "name": "stdout",
     "output_type": "stream",
     "text": [
      "mean =  0.260283237591061\n",
      "var =  0.06944363188891588\n"
     ]
    }
   ],
   "source": [
    "print('mean = ', expo_distribution.mean())\n",
    "print('var = ', expo_distribution.var())"
   ]
  },
  {
   "cell_type": "code",
   "execution_count": 1579,
   "metadata": {},
   "outputs": [
    {
     "data": {
      "text/plain": [
       "Text(0.5, 1.0, 'Poisson distribution')"
      ]
     },
     "execution_count": 1579,
     "metadata": {},
     "output_type": "execute_result"
    },
    {
     "data": {
      "image/png": "[encoded data removed]",
      "text/plain": [
       "<Figure size 432x288 with 1 Axes>"
      ]
     },
     "metadata": {},
     "output_type": "display_data"
    }
   ],
   "source": [
    "plt.hist(poisson_distribution, bins=10, color=\"green\")\n",
    "plt.title('Poisson distribution')"
   ]
  },
  {
   "cell_type": "code",
   "execution_count": 1581,
   "metadata": {},
   "outputs": [
    {
     "data": {
      "text/plain": [
       "0.595"
      ]
     },
     "execution_count": 1581,
     "metadata": {},
     "output_type": "execute_result"
    }
   ],
   "source": [
    "p = (poisson_distribution <= 4).sum() / 1000\n",
    "p"
   ]
  },
  {
   "cell_type": "code",
   "execution_count": 1582,
   "metadata": {},
   "outputs": [
    {
     "data": {
      "text/plain": [
       "Text(0.5, 1.0, 'Exponential distribution')"
      ]
     },
     "execution_count": 1582,
     "metadata": {},
     "output_type": "execute_result"
    },
    {
     "data": {
      "image/png": "[encoded data removed]",
      "text/plain": [
       "<Figure size 432x288 with 1 Axes>"
      ]
     },
     "metadata": {},
     "output_type": "display_data"
    }
   ],
   "source": [
    "plt.hist(expo_distribution)\n",
    "plt.title('Exponential distribution')"
   ]
  },
  {
   "cell_type": "code",
   "execution_count": 1583,
   "metadata": {},
   "outputs": [
    {
     "data": {
      "text/plain": [
       "0.606"
      ]
     },
     "execution_count": 1583,
     "metadata": {},
     "output_type": "execute_result"
    }
   ],
   "source": [
    "p = (expo_distribution <= 0.25).sum() / 1000\n",
    "p"
   ]
  },
  {
   "cell_type": "markdown",
   "metadata": {},
   "source": [
    "**正态分布**  \n",
    "* 方差越大正态分布曲线越平缓"
   ]
  },
  {
   "cell_type": "code",
   "execution_count": 1648,
   "metadata": {},
   "outputs": [],
   "source": [
    "norm_distribution_1 = np.random.normal(0, 1, size=1000)\n",
    "norm_distribution_2 = np.random.normal(0, 1.5, size=1000)\n",
    "norm_distribution_3 = np.random.normal(6, 1, size=1000)"
   ]
  },
  {
   "cell_type": "code",
   "execution_count": 1649,
   "metadata": {},
   "outputs": [
    {
     "data": {
      "text/plain": [
       "(array([  4.,  22.,  46., 121., 229., 237., 203.,  93.,  38.,   7.]),\n",
       " array([2.81969621, 3.42856901, 4.03744181, 4.64631461, 5.25518741,\n",
       "        5.8640602 , 6.472933  , 7.0818058 , 7.6906786 , 8.29955139,\n",
       "        8.90842419]),\n",
       " <a list of 10 Patch objects>)"
      ]
     },
     "execution_count": 1649,
     "metadata": {},
     "output_type": "execute_result"
    },
    {
     "data": {
      "image/png": "[encoded data removed]",
      "text/plain": [
       "<Figure size 432x288 with 1 Axes>"
      ]
     },
     "metadata": {},
     "output_type": "display_data"
    }
   ],
   "source": [
    "plt.hist(norm_distribution_1, color=\"green\", alpha=0.5)\n",
    "plt.hist(norm_distribution_2, color=\"red\", alpha=0.5)\n",
    "plt.hist(norm_distribution_3, color=\"blue\", alpha=0.5)"
   ]
  },
  {
   "cell_type": "markdown",
   "metadata": {},
   "source": [
    "## 3 抽样理论"
   ]
  },
  {
   "cell_type": "code",
   "execution_count": 1271,
   "metadata": {},
   "outputs": [],
   "source": [
    "%matplotlib inline\n",
    "import matplotlib.pyplot as plt\n",
    "import seaborn; seaborn.set()\n",
    "import numpy as np\n",
    "import pandas as pd\n",
    "from pandas import DataFrame, Series\n",
    "import random\n",
    "np.random.seed(0)"
   ]
  },
  {
   "cell_type": "markdown",
   "metadata": {},
   "source": [
    "**正态总体**"
   ]
  },
  {
   "cell_type": "code",
   "execution_count": 1043,
   "metadata": {
    "scrolled": true
   },
   "outputs": [
    {
     "data": {
      "text/plain": [
       "KstestResult(statistic=0.013350162761963325, pvalue=0.9941469522578733)"
      ]
     },
     "execution_count": 1043,
     "metadata": {},
     "output_type": "execute_result"
    }
   ],
   "source": [
    "norm_total = Series(np.random.normal(0, 1, size=1000))  # 正态分布总体（μ=0，σ=1）\n",
    "stats.kstest(norm_total, 'norm', (norm_total.mean(), norm_total.std()))"
   ]
  },
  {
   "cell_type": "code",
   "execution_count": 1044,
   "metadata": {},
   "outputs": [
    {
     "name": "stdout",
     "output_type": "stream",
     "text": [
      "mean =  0.004482460640967098\n",
      "std =  1.0513465138943707\n"
     ]
    }
   ],
   "source": [
    "print('mean = ', norm_total.mean())\n",
    "print('std = ', norm_total.std())"
   ]
  },
  {
   "cell_type": "code",
   "execution_count": 1045,
   "metadata": {},
   "outputs": [
    {
     "data": {
      "text/plain": [
       "Text(0, 0.5, 'number')"
      ]
     },
     "execution_count": 1045,
     "metadata": {},
     "output_type": "execute_result"
    },
    {
     "data": {
      "image/png": "[encoded data removed]",
      "text/plain": [
       "<Figure size 432x288 with 1 Axes>"
      ]
     },
     "metadata": {},
     "output_type": "display_data"
    }
   ],
   "source": [
    "plt.hist(norm_total)\n",
    "plt.title('Distribution of total data')\n",
    "plt.ylabel('number')"
   ]
  },
  {
   "cell_type": "markdown",
   "metadata": {},
   "source": [
    "**非正态总体**"
   ]
  },
  {
   "cell_type": "code",
   "execution_count": 1046,
   "metadata": {},
   "outputs": [],
   "source": [
    "non_norm_total = Series(np.random.rand(1000))"
   ]
  },
  {
   "cell_type": "code",
   "execution_count": 1047,
   "metadata": {},
   "outputs": [
    {
     "name": "stdout",
     "output_type": "stream",
     "text": [
      "mean =  0.5098216456176025\n",
      "std =  0.29114396685874894\n"
     ]
    }
   ],
   "source": [
    "print('mean = ', non_norm_total.mean())\n",
    "print('std = ', non_norm_total.std())"
   ]
  },
  {
   "cell_type": "code",
   "execution_count": 1048,
   "metadata": {},
   "outputs": [
    {
     "data": {
      "text/plain": [
       "Text(0, 0.5, 'number')"
      ]
     },
     "execution_count": 1048,
     "metadata": {},
     "output_type": "execute_result"
    },
    {
     "data": {
      "image/png": "[encoded data removed]",
      "text/plain": [
       "<Figure size 432x288 with 1 Axes>"
      ]
     },
     "metadata": {},
     "output_type": "display_data"
    }
   ],
   "source": [
    "plt.hist(non_norm_total)\n",
    "plt.title('Distribution of non-norm data')\n",
    "plt.ylabel('number')"
   ]
  },
  {
   "cell_type": "markdown",
   "metadata": {},
   "source": [
    "### 3.1 样本均值的抽样分布\n",
    "中心极限定理：**不论**总体服从什么分布，**只要**总体的均值和方差存在，且样本量足够大(n≥30)，则样本的均值抽样分布服从**正态分布**。且样本均值抽样分布的期望等于总体均值（E(X)=μ），方差等于总体方差除以样本量（Var(X)=σ<sup>2</sup>/n）"
   ]
  },
  {
   "cell_type": "code",
   "execution_count": 1078,
   "metadata": {},
   "outputs": [],
   "source": [
    "from scipy import stats\n",
    "np.random.seed(0)"
   ]
  },
  {
   "cell_type": "markdown",
   "metadata": {},
   "source": [
    "**正态总体-大样本**  \n",
    "样本均值抽样分布的期望等于总体均值（E(X)=μ），方差等于总体方差除以样本量（Var(X)=σ<sup>2</sup>/n）"
   ]
  },
  {
   "cell_type": "code",
   "execution_count": 1685,
   "metadata": {},
   "outputs": [
    {
     "data": {
      "text/html": [
       "<div>\n",
       "<style scoped>\n",
       "    .dataframe tbody tr th:only-of-type {\n",
       "        vertical-align: middle;\n",
       "    }\n",
       "\n",
       "    .dataframe tbody tr th {\n",
       "        vertical-align: top;\n",
       "    }\n",
       "\n",
       "    .dataframe thead th {\n",
       "        text-align: right;\n",
       "    }\n",
       "</style>\n",
       "<table border=\"1\" class=\"dataframe\">\n",
       "  <thead>\n",
       "    <tr style=\"text-align: right;\">\n",
       "      <th></th>\n",
       "      <th>0</th>\n",
       "      <th>1</th>\n",
       "      <th>2</th>\n",
       "      <th>3</th>\n",
       "      <th>4</th>\n",
       "      <th>5</th>\n",
       "      <th>6</th>\n",
       "      <th>7</th>\n",
       "      <th>8</th>\n",
       "      <th>9</th>\n",
       "      <th>...</th>\n",
       "      <th>190</th>\n",
       "      <th>191</th>\n",
       "      <th>192</th>\n",
       "      <th>193</th>\n",
       "      <th>194</th>\n",
       "      <th>195</th>\n",
       "      <th>196</th>\n",
       "      <th>197</th>\n",
       "      <th>198</th>\n",
       "      <th>199</th>\n",
       "    </tr>\n",
       "  </thead>\n",
       "  <tbody>\n",
       "    <tr>\n",
       "      <th>0</th>\n",
       "      <td>1.542039</td>\n",
       "      <td>-0.728191</td>\n",
       "      <td>-0.000440</td>\n",
       "      <td>-0.270018</td>\n",
       "      <td>0.476217</td>\n",
       "      <td>-1.162305</td>\n",
       "      <td>0.809765</td>\n",
       "      <td>0.082280</td>\n",
       "      <td>0.539259</td>\n",
       "      <td>-1.235341</td>\n",
       "      <td>...</td>\n",
       "      <td>1.009322</td>\n",
       "      <td>-0.041676</td>\n",
       "      <td>0.160405</td>\n",
       "      <td>-1.481897</td>\n",
       "      <td>0.079019</td>\n",
       "      <td>0.915848</td>\n",
       "      <td>0.377203</td>\n",
       "      <td>-0.320374</td>\n",
       "      <td>-0.166465</td>\n",
       "      <td>-0.159705</td>\n",
       "    </tr>\n",
       "    <tr>\n",
       "      <th>1</th>\n",
       "      <td>1.197458</td>\n",
       "      <td>-0.600254</td>\n",
       "      <td>2.373032</td>\n",
       "      <td>1.325448</td>\n",
       "      <td>-1.139298</td>\n",
       "      <td>-1.008165</td>\n",
       "      <td>-2.073245</td>\n",
       "      <td>-1.156290</td>\n",
       "      <td>-0.513834</td>\n",
       "      <td>0.698238</td>\n",
       "      <td>...</td>\n",
       "      <td>-0.058764</td>\n",
       "      <td>1.197458</td>\n",
       "      <td>1.242226</td>\n",
       "      <td>0.310802</td>\n",
       "      <td>-0.588137</td>\n",
       "      <td>-0.765251</td>\n",
       "      <td>-0.903939</td>\n",
       "      <td>0.421094</td>\n",
       "      <td>-0.648647</td>\n",
       "      <td>-1.741523</td>\n",
       "    </tr>\n",
       "    <tr>\n",
       "      <th>2</th>\n",
       "      <td>0.396555</td>\n",
       "      <td>1.010973</td>\n",
       "      <td>0.762064</td>\n",
       "      <td>0.267646</td>\n",
       "      <td>1.274028</td>\n",
       "      <td>-0.418793</td>\n",
       "      <td>-0.133238</td>\n",
       "      <td>-0.254140</td>\n",
       "      <td>-1.234445</td>\n",
       "      <td>-0.416069</td>\n",
       "      <td>...</td>\n",
       "      <td>0.225312</td>\n",
       "      <td>1.068790</td>\n",
       "      <td>1.705449</td>\n",
       "      <td>1.902502</td>\n",
       "      <td>-1.329861</td>\n",
       "      <td>-0.827703</td>\n",
       "      <td>0.178550</td>\n",
       "      <td>0.373189</td>\n",
       "      <td>0.128845</td>\n",
       "      <td>-0.843276</td>\n",
       "    </tr>\n",
       "    <tr>\n",
       "      <th>3</th>\n",
       "      <td>0.377203</td>\n",
       "      <td>0.376113</td>\n",
       "      <td>0.405621</td>\n",
       "      <td>0.250635</td>\n",
       "      <td>-1.066161</td>\n",
       "      <td>0.972806</td>\n",
       "      <td>-0.971068</td>\n",
       "      <td>-1.827808</td>\n",
       "      <td>0.159333</td>\n",
       "      <td>-0.123176</td>\n",
       "      <td>...</td>\n",
       "      <td>1.010973</td>\n",
       "      <td>0.557836</td>\n",
       "      <td>1.631785</td>\n",
       "      <td>0.980082</td>\n",
       "      <td>0.410470</td>\n",
       "      <td>-0.600254</td>\n",
       "      <td>-0.345134</td>\n",
       "      <td>-0.167032</td>\n",
       "      <td>-1.481897</td>\n",
       "      <td>0.837526</td>\n",
       "    </tr>\n",
       "    <tr>\n",
       "      <th>4</th>\n",
       "      <td>-0.148900</td>\n",
       "      <td>-1.536260</td>\n",
       "      <td>-0.208494</td>\n",
       "      <td>-0.575703</td>\n",
       "      <td>1.656218</td>\n",
       "      <td>1.226982</td>\n",
       "      <td>-1.274046</td>\n",
       "      <td>0.239913</td>\n",
       "      <td>-1.347583</td>\n",
       "      <td>0.781977</td>\n",
       "      <td>...</td>\n",
       "      <td>-1.284966</td>\n",
       "      <td>1.551131</td>\n",
       "      <td>-1.034626</td>\n",
       "      <td>-0.761486</td>\n",
       "      <td>0.354630</td>\n",
       "      <td>-1.392522</td>\n",
       "      <td>-0.798835</td>\n",
       "      <td>-0.516503</td>\n",
       "      <td>-0.730922</td>\n",
       "      <td>-0.683953</td>\n",
       "    </tr>\n",
       "  </tbody>\n",
       "</table>\n",
       "<p>5 rows × 200 columns</p>\n",
       "</div>"
      ],
      "text/plain": [
       "        0         1         2         3         4         5         6    \\\n",
       "0  1.542039 -0.728191 -0.000440 -0.270018  0.476217 -1.162305  0.809765   \n",
       "1  1.197458 -0.600254  2.373032  1.325448 -1.139298 -1.008165 -2.073245   \n",
       "2  0.396555  1.010973  0.762064  0.267646  1.274028 -0.418793 -0.133238   \n",
       "3  0.377203  0.376113  0.405621  0.250635 -1.066161  0.972806 -0.971068   \n",
       "4 -0.148900 -1.536260 -0.208494 -0.575703  1.656218  1.226982 -1.274046   \n",
       "\n",
       "        7         8         9    ...       190       191       192       193  \\\n",
       "0  0.082280  0.539259 -1.235341  ...  1.009322 -0.041676  0.160405 -1.481897   \n",
       "1 -1.156290 -0.513834  0.698238  ... -0.058764  1.197458  1.242226  0.310802   \n",
       "2 -0.254140 -1.234445 -0.416069  ...  0.225312  1.068790  1.705449  1.902502   \n",
       "3 -1.827808  0.159333 -0.123176  ...  1.010973  0.557836  1.631785  0.980082   \n",
       "4  0.239913 -1.347583  0.781977  ... -1.284966  1.551131 -1.034626 -0.761486   \n",
       "\n",
       "        194       195       196       197       198       199  \n",
       "0  0.079019  0.915848  0.377203 -0.320374 -0.166465 -0.159705  \n",
       "1 -0.588137 -0.765251 -0.903939  0.421094 -0.648647 -1.741523  \n",
       "2 -1.329861 -0.827703  0.178550  0.373189  0.128845 -0.843276  \n",
       "3  0.410470 -0.600254 -0.345134 -0.167032 -1.481897  0.837526  \n",
       "4  0.354630 -1.392522 -0.798835 -0.516503 -0.730922 -0.683953  \n",
       "\n",
       "[5 rows x 200 columns]"
      ]
     },
     "execution_count": 1685,
     "metadata": {},
     "output_type": "execute_result"
    }
   ],
   "source": [
    "# 随机抽样\n",
    "large_norm_samples = []\n",
    "\n",
    "for i in range(1000):\n",
    "    large_norm_samples.append(norm_total.sample(200, replace=True).values)\n",
    "\n",
    "large_norm_samples = DataFrame(large_norm_samples)\n",
    "large_norm_samples.head()"
   ]
  },
  {
   "cell_type": "code",
   "execution_count": 1686,
   "metadata": {},
   "outputs": [
    {
     "data": {
      "text/plain": [
       "KstestResult(statistic=0.016138846015380515, pvalue=0.956932739131344)"
      ]
     },
     "execution_count": 1686,
     "metadata": {},
     "output_type": "execute_result"
    }
   ],
   "source": [
    "'''\n",
    "正态性检验\n",
    "H0：数据服从正态分布\n",
    "H1：数据不服从正态分布\n",
    "p>0.5，不能拒绝原假设\n",
    "'''\n",
    "large_norm_sample_means = DataFrame(large_norm_samples).mean(axis=1)\n",
    "stats.kstest(large_norm_sample_means, 'norm', (large_norm_sample_means.mean(), large_norm_sample_means.std()))"
   ]
  },
  {
   "cell_type": "code",
   "execution_count": 1687,
   "metadata": {},
   "outputs": [
    {
     "name": "stdout",
     "output_type": "stream",
     "text": [
      "mean =  -0.009268059520311718\n",
      "var =  0.005202554521245628\n"
     ]
    }
   ],
   "source": [
    "print('mean = ', large_norm_sample_means.mean())\n",
    "print('var = ', large_norm_sample_means.var())"
   ]
  },
  {
   "cell_type": "code",
   "execution_count": 1688,
   "metadata": {
    "scrolled": true
   },
   "outputs": [
    {
     "data": {
      "text/plain": [
       "Text(0, 0.5, 'number')"
      ]
     },
     "execution_count": 1688,
     "metadata": {},
     "output_type": "execute_result"
    },
    {
     "data": {
      "image/png": "[encoded data removed]",
      "text/plain": [
       "<Figure size 432x288 with 1 Axes>"
      ]
     },
     "metadata": {},
     "output_type": "display_data"
    }
   ],
   "source": [
    "plt.hist(large_norm_sample_means)\n",
    "plt.title('The sampling distribution of the mean')\n",
    "plt.ylabel('number')"
   ]
  },
  {
   "cell_type": "markdown",
   "metadata": {},
   "source": [
    "**正态总体-小样本**  \n",
    "* 样本均值抽样分布的期望等于总体均值（E(X)=μ），相对于大样本，**方差偏大**\n",
    "* 多次重复采样取均值能够降低误差"
   ]
  },
  {
   "cell_type": "code",
   "execution_count": 1689,
   "metadata": {},
   "outputs": [
    {
     "data": {
      "text/html": [
       "<div>\n",
       "<style scoped>\n",
       "    .dataframe tbody tr th:only-of-type {\n",
       "        vertical-align: middle;\n",
       "    }\n",
       "\n",
       "    .dataframe tbody tr th {\n",
       "        vertical-align: top;\n",
       "    }\n",
       "\n",
       "    .dataframe thead th {\n",
       "        text-align: right;\n",
       "    }\n",
       "</style>\n",
       "<table border=\"1\" class=\"dataframe\">\n",
       "  <thead>\n",
       "    <tr style=\"text-align: right;\">\n",
       "      <th></th>\n",
       "      <th>0</th>\n",
       "      <th>1</th>\n",
       "      <th>2</th>\n",
       "      <th>3</th>\n",
       "      <th>4</th>\n",
       "      <th>5</th>\n",
       "      <th>6</th>\n",
       "      <th>7</th>\n",
       "      <th>8</th>\n",
       "      <th>9</th>\n",
       "      <th>10</th>\n",
       "      <th>11</th>\n",
       "      <th>12</th>\n",
       "      <th>13</th>\n",
       "      <th>14</th>\n",
       "    </tr>\n",
       "  </thead>\n",
       "  <tbody>\n",
       "    <tr>\n",
       "      <th>0</th>\n",
       "      <td>0.374977</td>\n",
       "      <td>0.802651</td>\n",
       "      <td>-0.148900</td>\n",
       "      <td>-0.683953</td>\n",
       "      <td>0.066315</td>\n",
       "      <td>0.067817</td>\n",
       "      <td>-0.169852</td>\n",
       "      <td>-0.362312</td>\n",
       "      <td>-0.608349</td>\n",
       "      <td>-1.108556</td>\n",
       "      <td>-0.345134</td>\n",
       "      <td>-0.111811</td>\n",
       "      <td>-0.972176</td>\n",
       "      <td>0.872939</td>\n",
       "      <td>0.562419</td>\n",
       "    </tr>\n",
       "    <tr>\n",
       "      <th>1</th>\n",
       "      <td>-0.320374</td>\n",
       "      <td>-1.779981</td>\n",
       "      <td>-1.053191</td>\n",
       "      <td>-1.179077</td>\n",
       "      <td>-0.614422</td>\n",
       "      <td>-0.035903</td>\n",
       "      <td>-0.578365</td>\n",
       "      <td>0.876640</td>\n",
       "      <td>-0.437332</td>\n",
       "      <td>-1.046007</td>\n",
       "      <td>0.131043</td>\n",
       "      <td>-0.839696</td>\n",
       "      <td>-1.097925</td>\n",
       "      <td>-1.235341</td>\n",
       "      <td>-0.695731</td>\n",
       "    </tr>\n",
       "    <tr>\n",
       "      <th>2</th>\n",
       "      <td>-0.188073</td>\n",
       "      <td>1.433712</td>\n",
       "      <td>-0.947441</td>\n",
       "      <td>-1.235341</td>\n",
       "      <td>1.619121</td>\n",
       "      <td>-0.798835</td>\n",
       "      <td>0.417583</td>\n",
       "      <td>0.436779</td>\n",
       "      <td>0.507854</td>\n",
       "      <td>-0.220820</td>\n",
       "      <td>-0.201354</td>\n",
       "      <td>-0.644074</td>\n",
       "      <td>0.847950</td>\n",
       "      <td>0.354630</td>\n",
       "      <td>-0.400208</td>\n",
       "    </tr>\n",
       "    <tr>\n",
       "      <th>3</th>\n",
       "      <td>-1.675860</td>\n",
       "      <td>0.118408</td>\n",
       "      <td>0.499907</td>\n",
       "      <td>0.156038</td>\n",
       "      <td>0.692731</td>\n",
       "      <td>-0.130300</td>\n",
       "      <td>-0.341010</td>\n",
       "      <td>1.162450</td>\n",
       "      <td>-0.150714</td>\n",
       "      <td>0.272816</td>\n",
       "      <td>0.118408</td>\n",
       "      <td>1.033827</td>\n",
       "      <td>-0.089827</td>\n",
       "      <td>-1.364988</td>\n",
       "      <td>-1.450489</td>\n",
       "    </tr>\n",
       "    <tr>\n",
       "      <th>4</th>\n",
       "      <td>-0.120144</td>\n",
       "      <td>0.272816</td>\n",
       "      <td>0.821364</td>\n",
       "      <td>0.175411</td>\n",
       "      <td>0.367683</td>\n",
       "      <td>-0.020823</td>\n",
       "      <td>0.392160</td>\n",
       "      <td>0.368092</td>\n",
       "      <td>-1.256110</td>\n",
       "      <td>1.761604</td>\n",
       "      <td>0.426558</td>\n",
       "      <td>-1.244028</td>\n",
       "      <td>1.612561</td>\n",
       "      <td>-0.165514</td>\n",
       "      <td>-0.376919</td>\n",
       "    </tr>\n",
       "  </tbody>\n",
       "</table>\n",
       "</div>"
      ],
      "text/plain": [
       "          0         1         2         3         4         5         6  \\\n",
       "0  0.374977  0.802651 -0.148900 -0.683953  0.066315  0.067817 -0.169852   \n",
       "1 -0.320374 -1.779981 -1.053191 -1.179077 -0.614422 -0.035903 -0.578365   \n",
       "2 -0.188073  1.433712 -0.947441 -1.235341  1.619121 -0.798835  0.417583   \n",
       "3 -1.675860  0.118408  0.499907  0.156038  0.692731 -0.130300 -0.341010   \n",
       "4 -0.120144  0.272816  0.821364  0.175411  0.367683 -0.020823  0.392160   \n",
       "\n",
       "          7         8         9        10        11        12        13  \\\n",
       "0 -0.362312 -0.608349 -1.108556 -0.345134 -0.111811 -0.972176  0.872939   \n",
       "1  0.876640 -0.437332 -1.046007  0.131043 -0.839696 -1.097925 -1.235341   \n",
       "2  0.436779  0.507854 -0.220820 -0.201354 -0.644074  0.847950  0.354630   \n",
       "3  1.162450 -0.150714  0.272816  0.118408  1.033827 -0.089827 -1.364988   \n",
       "4  0.368092 -1.256110  1.761604  0.426558 -1.244028  1.612561 -0.165514   \n",
       "\n",
       "         14  \n",
       "0  0.562419  \n",
       "1 -0.695731  \n",
       "2 -0.400208  \n",
       "3 -1.450489  \n",
       "4 -0.376919  "
      ]
     },
     "execution_count": 1689,
     "metadata": {},
     "output_type": "execute_result"
    }
   ],
   "source": [
    "# 随机抽样\n",
    "small_norm_samples = []\n",
    "\n",
    "for i in range(1000):\n",
    "    small_norm_samples.append(norm_total.sample(15, replace=True).values)\n",
    "\n",
    "small_norm_samples = DataFrame(small_norm_samples)\n",
    "small_norm_samples.head()"
   ]
  },
  {
   "cell_type": "code",
   "execution_count": 1690,
   "metadata": {},
   "outputs": [
    {
     "data": {
      "text/plain": [
       "KstestResult(statistic=0.021911548315446006, pvalue=0.7230134720986916)"
      ]
     },
     "execution_count": 1690,
     "metadata": {},
     "output_type": "execute_result"
    }
   ],
   "source": [
    "small_norm_sample_means = DataFrame(small_norm_samples).mean(axis=1)\n",
    "stats.kstest(small_norm_sample_means, 'norm', (small_norm_sample_means.mean(), small_norm_sample_means.std()))"
   ]
  },
  {
   "cell_type": "code",
   "execution_count": 1691,
   "metadata": {},
   "outputs": [
    {
     "name": "stdout",
     "output_type": "stream",
     "text": [
      "mean =  -0.017837883187005667\n",
      "std =  0.24937012015439725\n"
     ]
    }
   ],
   "source": [
    "print('mean = ', small_norm_sample_means.mean())\n",
    "print('std = ', small_norm_sample_means.std())"
   ]
  },
  {
   "cell_type": "code",
   "execution_count": 1692,
   "metadata": {},
   "outputs": [
    {
     "data": {
      "text/plain": [
       "Text(0.5, 0, 'mean')"
      ]
     },
     "execution_count": 1692,
     "metadata": {},
     "output_type": "execute_result"
    },
    {
     "data": {
      "image/png": "[encoded data removed]",
      "text/plain": [
       "<Figure size 432x288 with 1 Axes>"
      ]
     },
     "metadata": {},
     "output_type": "display_data"
    }
   ],
   "source": [
    "plt.hist(small_norm_sample_means)\n",
    "plt.title('The sampling distribution of the mean')\n",
    "plt.ylabel('number')\n",
    "plt.xlabel('mean')"
   ]
  },
  {
   "cell_type": "markdown",
   "metadata": {},
   "source": [
    "多次抽样"
   ]
  },
  {
   "cell_type": "code",
   "execution_count": 1693,
   "metadata": {},
   "outputs": [],
   "source": [
    "def getMA(arr, step=3):\n",
    "    '''\n",
    "    取移动平均值\n",
    "    '''\n",
    "    result = []\n",
    "    \n",
    "    for i in range(0, len(arr)-step+1, step):\n",
    "        temp = 0\n",
    "        for j in range(step):\n",
    "            temp += arr[i+j]\n",
    "        ma = temp / step\n",
    "        result.append(ma)\n",
    "        \n",
    "    return Series(result)"
   ]
  },
  {
   "cell_type": "code",
   "execution_count": 1694,
   "metadata": {},
   "outputs": [
    {
     "data": {
      "text/plain": [
       "KstestResult(statistic=0.033681270028089405, pvalue=0.8443448000059879)"
      ]
     },
     "execution_count": 1694,
     "metadata": {},
     "output_type": "execute_result"
    }
   ],
   "source": [
    "MAs = getMA(small_norm_sample_means)\n",
    "stats.kstest(MAs, 'norm', (MAs.mean(), MAs.std()))"
   ]
  },
  {
   "cell_type": "code",
   "execution_count": 1695,
   "metadata": {},
   "outputs": [
    {
     "data": {
      "text/plain": [
       "Text(0.5, 0, 'mean')"
      ]
     },
     "execution_count": 1695,
     "metadata": {},
     "output_type": "execute_result"
    },
    {
     "data": {
      "image/png": "[encoded data removed]",
      "text/plain": [
       "<Figure size 432x288 with 1 Axes>"
      ]
     },
     "metadata": {},
     "output_type": "display_data"
    }
   ],
   "source": [
    "plt.hist(MAs)\n",
    "plt.title('The distribution of moving average')\n",
    "plt.ylabel('number')\n",
    "plt.xlabel('mean')"
   ]
  },
  {
   "cell_type": "markdown",
   "metadata": {},
   "source": [
    "**非正态总体-大样本**  \n",
    "样本均值抽样分布的期望等于总体均值（E(X)=μ），方差等于总体方差除以样本量（Var(X)=σ<sup>2</sup>/n）"
   ]
  },
  {
   "cell_type": "code",
   "execution_count": 1696,
   "metadata": {},
   "outputs": [
    {
     "data": {
      "text/html": [
       "<div>\n",
       "<style scoped>\n",
       "    .dataframe tbody tr th:only-of-type {\n",
       "        vertical-align: middle;\n",
       "    }\n",
       "\n",
       "    .dataframe tbody tr th {\n",
       "        vertical-align: top;\n",
       "    }\n",
       "\n",
       "    .dataframe thead th {\n",
       "        text-align: right;\n",
       "    }\n",
       "</style>\n",
       "<table border=\"1\" class=\"dataframe\">\n",
       "  <thead>\n",
       "    <tr style=\"text-align: right;\">\n",
       "      <th></th>\n",
       "      <th>0</th>\n",
       "      <th>1</th>\n",
       "      <th>2</th>\n",
       "      <th>3</th>\n",
       "      <th>4</th>\n",
       "      <th>5</th>\n",
       "      <th>6</th>\n",
       "      <th>7</th>\n",
       "      <th>8</th>\n",
       "      <th>9</th>\n",
       "      <th>...</th>\n",
       "      <th>190</th>\n",
       "      <th>191</th>\n",
       "      <th>192</th>\n",
       "      <th>193</th>\n",
       "      <th>194</th>\n",
       "      <th>195</th>\n",
       "      <th>196</th>\n",
       "      <th>197</th>\n",
       "      <th>198</th>\n",
       "      <th>199</th>\n",
       "    </tr>\n",
       "  </thead>\n",
       "  <tbody>\n",
       "    <tr>\n",
       "      <th>0</th>\n",
       "      <td>0.628235</td>\n",
       "      <td>0.759991</td>\n",
       "      <td>0.043031</td>\n",
       "      <td>0.009896</td>\n",
       "      <td>0.163444</td>\n",
       "      <td>0.117227</td>\n",
       "      <td>0.901623</td>\n",
       "      <td>0.249698</td>\n",
       "      <td>0.665684</td>\n",
       "      <td>0.658633</td>\n",
       "      <td>...</td>\n",
       "      <td>0.088299</td>\n",
       "      <td>0.385635</td>\n",
       "      <td>0.417751</td>\n",
       "      <td>0.933089</td>\n",
       "      <td>0.256373</td>\n",
       "      <td>0.428877</td>\n",
       "      <td>0.970094</td>\n",
       "      <td>0.012424</td>\n",
       "      <td>0.734409</td>\n",
       "      <td>0.606734</td>\n",
       "    </tr>\n",
       "    <tr>\n",
       "      <th>1</th>\n",
       "      <td>0.801562</td>\n",
       "      <td>0.328601</td>\n",
       "      <td>0.881533</td>\n",
       "      <td>0.490199</td>\n",
       "      <td>0.496635</td>\n",
       "      <td>0.853469</td>\n",
       "      <td>0.129476</td>\n",
       "      <td>0.125276</td>\n",
       "      <td>0.365990</td>\n",
       "      <td>0.575404</td>\n",
       "      <td>...</td>\n",
       "      <td>0.706938</td>\n",
       "      <td>0.728196</td>\n",
       "      <td>0.463753</td>\n",
       "      <td>0.099644</td>\n",
       "      <td>0.853579</td>\n",
       "      <td>0.428877</td>\n",
       "      <td>0.803000</td>\n",
       "      <td>0.518651</td>\n",
       "      <td>0.799294</td>\n",
       "      <td>0.144352</td>\n",
       "    </tr>\n",
       "    <tr>\n",
       "      <th>2</th>\n",
       "      <td>0.353943</td>\n",
       "      <td>0.502602</td>\n",
       "      <td>0.212001</td>\n",
       "      <td>0.411186</td>\n",
       "      <td>0.891994</td>\n",
       "      <td>0.340603</td>\n",
       "      <td>0.390655</td>\n",
       "      <td>0.559744</td>\n",
       "      <td>0.494843</td>\n",
       "      <td>0.249883</td>\n",
       "      <td>...</td>\n",
       "      <td>0.732423</td>\n",
       "      <td>0.099644</td>\n",
       "      <td>0.979332</td>\n",
       "      <td>0.911979</td>\n",
       "      <td>0.041708</td>\n",
       "      <td>0.833954</td>\n",
       "      <td>0.363641</td>\n",
       "      <td>0.002084</td>\n",
       "      <td>0.655067</td>\n",
       "      <td>0.618857</td>\n",
       "    </tr>\n",
       "    <tr>\n",
       "      <th>3</th>\n",
       "      <td>0.990178</td>\n",
       "      <td>0.104082</td>\n",
       "      <td>0.647966</td>\n",
       "      <td>0.743288</td>\n",
       "      <td>0.128401</td>\n",
       "      <td>0.061928</td>\n",
       "      <td>0.489594</td>\n",
       "      <td>0.567320</td>\n",
       "      <td>0.285921</td>\n",
       "      <td>0.626054</td>\n",
       "      <td>...</td>\n",
       "      <td>0.734555</td>\n",
       "      <td>0.490927</td>\n",
       "      <td>0.734409</td>\n",
       "      <td>0.120085</td>\n",
       "      <td>0.267857</td>\n",
       "      <td>0.292451</td>\n",
       "      <td>0.430621</td>\n",
       "      <td>0.940812</td>\n",
       "      <td>0.327436</td>\n",
       "      <td>0.637082</td>\n",
       "    </tr>\n",
       "    <tr>\n",
       "      <th>4</th>\n",
       "      <td>0.027152</td>\n",
       "      <td>0.087036</td>\n",
       "      <td>0.494842</td>\n",
       "      <td>0.102196</td>\n",
       "      <td>0.440673</td>\n",
       "      <td>0.847642</td>\n",
       "      <td>0.738654</td>\n",
       "      <td>0.768455</td>\n",
       "      <td>0.627299</td>\n",
       "      <td>0.367845</td>\n",
       "      <td>...</td>\n",
       "      <td>0.157984</td>\n",
       "      <td>0.813371</td>\n",
       "      <td>0.401474</td>\n",
       "      <td>0.640117</td>\n",
       "      <td>0.933089</td>\n",
       "      <td>0.850137</td>\n",
       "      <td>0.683848</td>\n",
       "      <td>0.037034</td>\n",
       "      <td>0.403771</td>\n",
       "      <td>0.863161</td>\n",
       "    </tr>\n",
       "  </tbody>\n",
       "</table>\n",
       "<p>5 rows × 200 columns</p>\n",
       "</div>"
      ],
      "text/plain": [
       "        0         1         2         3         4         5         6    \\\n",
       "0  0.628235  0.759991  0.043031  0.009896  0.163444  0.117227  0.901623   \n",
       "1  0.801562  0.328601  0.881533  0.490199  0.496635  0.853469  0.129476   \n",
       "2  0.353943  0.502602  0.212001  0.411186  0.891994  0.340603  0.390655   \n",
       "3  0.990178  0.104082  0.647966  0.743288  0.128401  0.061928  0.489594   \n",
       "4  0.027152  0.087036  0.494842  0.102196  0.440673  0.847642  0.738654   \n",
       "\n",
       "        7         8         9    ...       190       191       192       193  \\\n",
       "0  0.249698  0.665684  0.658633  ...  0.088299  0.385635  0.417751  0.933089   \n",
       "1  0.125276  0.365990  0.575404  ...  0.706938  0.728196  0.463753  0.099644   \n",
       "2  0.559744  0.494843  0.249883  ...  0.732423  0.099644  0.979332  0.911979   \n",
       "3  0.567320  0.285921  0.626054  ...  0.734555  0.490927  0.734409  0.120085   \n",
       "4  0.768455  0.627299  0.367845  ...  0.157984  0.813371  0.401474  0.640117   \n",
       "\n",
       "        194       195       196       197       198       199  \n",
       "0  0.256373  0.428877  0.970094  0.012424  0.734409  0.606734  \n",
       "1  0.853579  0.428877  0.803000  0.518651  0.799294  0.144352  \n",
       "2  0.041708  0.833954  0.363641  0.002084  0.655067  0.618857  \n",
       "3  0.267857  0.292451  0.430621  0.940812  0.327436  0.637082  \n",
       "4  0.933089  0.850137  0.683848  0.037034  0.403771  0.863161  \n",
       "\n",
       "[5 rows x 200 columns]"
      ]
     },
     "execution_count": 1696,
     "metadata": {},
     "output_type": "execute_result"
    }
   ],
   "source": [
    "# 随机抽样\n",
    "large_non_norm_samples = []\n",
    "\n",
    "for i in range(1000):\n",
    "    large_non_norm_samples.append(non_norm_total.sample(200, replace=True).values)\n",
    "\n",
    "large_non_norm_samples = DataFrame(large_non_norm_samples)\n",
    "large_non_norm_samples.head()"
   ]
  },
  {
   "cell_type": "code",
   "execution_count": 1697,
   "metadata": {},
   "outputs": [
    {
     "data": {
      "text/plain": [
       "KstestResult(statistic=0.018377202106908186, pvalue=0.8882292821106321)"
      ]
     },
     "execution_count": 1697,
     "metadata": {},
     "output_type": "execute_result"
    }
   ],
   "source": [
    "large_non_norm_sample_means = DataFrame(large_non_norm_samples).mean(axis=1)\n",
    "stats.kstest(large_non_norm_sample_means, 'norm', (large_non_norm_sample_means.mean(), large_non_norm_sample_means.std()))"
   ]
  },
  {
   "cell_type": "code",
   "execution_count": 1698,
   "metadata": {},
   "outputs": [
    {
     "name": "stdout",
     "output_type": "stream",
     "text": [
      "mean =  0.4906127031785294\n",
      "std =  0.020522440927273785\n"
     ]
    }
   ],
   "source": [
    "print('mean = ', large_non_norm_sample_means.mean())\n",
    "print('std = ', large_non_norm_sample_means.std())"
   ]
  },
  {
   "cell_type": "code",
   "execution_count": 1699,
   "metadata": {},
   "outputs": [
    {
     "data": {
      "text/plain": [
       "Text(0, 0.5, 'number')"
      ]
     },
     "execution_count": 1699,
     "metadata": {},
     "output_type": "execute_result"
    },
    {
     "data": {
      "image/png": "[encoded data removed]",
      "text/plain": [
       "<Figure size 432x288 with 1 Axes>"
      ]
     },
     "metadata": {},
     "output_type": "display_data"
    }
   ],
   "source": [
    "plt.hist(large_non_norm_sample_means)\n",
    "plt.title('The sampling distribution of the mean')\n",
    "plt.ylabel('number')"
   ]
  },
  {
   "cell_type": "markdown",
   "metadata": {},
   "source": [
    "**非正态总体-小样本**  \n",
    "样本均值抽样分布的期望等于总体均值（E(X)=μ），相对于大样本，**方差偏大**"
   ]
  },
  {
   "cell_type": "code",
   "execution_count": 1700,
   "metadata": {},
   "outputs": [
    {
     "data": {
      "text/html": [
       "<div>\n",
       "<style scoped>\n",
       "    .dataframe tbody tr th:only-of-type {\n",
       "        vertical-align: middle;\n",
       "    }\n",
       "\n",
       "    .dataframe tbody tr th {\n",
       "        vertical-align: top;\n",
       "    }\n",
       "\n",
       "    .dataframe thead th {\n",
       "        text-align: right;\n",
       "    }\n",
       "</style>\n",
       "<table border=\"1\" class=\"dataframe\">\n",
       "  <thead>\n",
       "    <tr style=\"text-align: right;\">\n",
       "      <th></th>\n",
       "      <th>0</th>\n",
       "      <th>1</th>\n",
       "      <th>2</th>\n",
       "      <th>3</th>\n",
       "      <th>4</th>\n",
       "      <th>5</th>\n",
       "      <th>6</th>\n",
       "      <th>7</th>\n",
       "      <th>8</th>\n",
       "      <th>9</th>\n",
       "      <th>10</th>\n",
       "      <th>11</th>\n",
       "      <th>12</th>\n",
       "      <th>13</th>\n",
       "      <th>14</th>\n",
       "    </tr>\n",
       "  </thead>\n",
       "  <tbody>\n",
       "    <tr>\n",
       "      <th>0</th>\n",
       "      <td>0.933089</td>\n",
       "      <td>0.340687</td>\n",
       "      <td>0.147159</td>\n",
       "      <td>0.129993</td>\n",
       "      <td>0.035759</td>\n",
       "      <td>0.401474</td>\n",
       "      <td>0.077372</td>\n",
       "      <td>0.149887</td>\n",
       "      <td>0.046049</td>\n",
       "      <td>0.662766</td>\n",
       "      <td>0.268358</td>\n",
       "      <td>0.969250</td>\n",
       "      <td>0.396721</td>\n",
       "      <td>0.668828</td>\n",
       "      <td>0.466204</td>\n",
       "    </tr>\n",
       "    <tr>\n",
       "      <th>1</th>\n",
       "      <td>0.651837</td>\n",
       "      <td>0.149329</td>\n",
       "      <td>0.160373</td>\n",
       "      <td>0.099496</td>\n",
       "      <td>0.046049</td>\n",
       "      <td>0.963046</td>\n",
       "      <td>0.801562</td>\n",
       "      <td>0.318203</td>\n",
       "      <td>0.043031</td>\n",
       "      <td>0.798933</td>\n",
       "      <td>0.507460</td>\n",
       "      <td>0.076727</td>\n",
       "      <td>0.157337</td>\n",
       "      <td>0.118956</td>\n",
       "      <td>0.163444</td>\n",
       "    </tr>\n",
       "    <tr>\n",
       "      <th>2</th>\n",
       "      <td>0.794970</td>\n",
       "      <td>0.698268</td>\n",
       "      <td>0.122538</td>\n",
       "      <td>0.166878</td>\n",
       "      <td>0.094453</td>\n",
       "      <td>0.707646</td>\n",
       "      <td>0.366479</td>\n",
       "      <td>0.099496</td>\n",
       "      <td>0.882579</td>\n",
       "      <td>0.256373</td>\n",
       "      <td>0.385906</td>\n",
       "      <td>0.376787</td>\n",
       "      <td>0.264091</td>\n",
       "      <td>0.941097</td>\n",
       "      <td>0.514971</td>\n",
       "    </tr>\n",
       "    <tr>\n",
       "      <th>3</th>\n",
       "      <td>0.076739</td>\n",
       "      <td>0.874307</td>\n",
       "      <td>0.367027</td>\n",
       "      <td>0.496635</td>\n",
       "      <td>0.853469</td>\n",
       "      <td>0.149887</td>\n",
       "      <td>0.627794</td>\n",
       "      <td>0.062216</td>\n",
       "      <td>0.095508</td>\n",
       "      <td>0.267857</td>\n",
       "      <td>0.385635</td>\n",
       "      <td>0.520403</td>\n",
       "      <td>0.367938</td>\n",
       "      <td>0.025377</td>\n",
       "      <td>0.176371</td>\n",
       "    </tr>\n",
       "    <tr>\n",
       "      <th>4</th>\n",
       "      <td>0.818264</td>\n",
       "      <td>0.965105</td>\n",
       "      <td>0.932645</td>\n",
       "      <td>0.062535</td>\n",
       "      <td>0.102196</td>\n",
       "      <td>0.692091</td>\n",
       "      <td>0.475436</td>\n",
       "      <td>0.396948</td>\n",
       "      <td>0.276455</td>\n",
       "      <td>0.103030</td>\n",
       "      <td>0.383432</td>\n",
       "      <td>0.966730</td>\n",
       "      <td>0.751310</td>\n",
       "      <td>0.588982</td>\n",
       "      <td>0.731577</td>\n",
       "    </tr>\n",
       "  </tbody>\n",
       "</table>\n",
       "</div>"
      ],
      "text/plain": [
       "          0         1         2         3         4         5         6  \\\n",
       "0  0.933089  0.340687  0.147159  0.129993  0.035759  0.401474  0.077372   \n",
       "1  0.651837  0.149329  0.160373  0.099496  0.046049  0.963046  0.801562   \n",
       "2  0.794970  0.698268  0.122538  0.166878  0.094453  0.707646  0.366479   \n",
       "3  0.076739  0.874307  0.367027  0.496635  0.853469  0.149887  0.627794   \n",
       "4  0.818264  0.965105  0.932645  0.062535  0.102196  0.692091  0.475436   \n",
       "\n",
       "          7         8         9        10        11        12        13  \\\n",
       "0  0.149887  0.046049  0.662766  0.268358  0.969250  0.396721  0.668828   \n",
       "1  0.318203  0.043031  0.798933  0.507460  0.076727  0.157337  0.118956   \n",
       "2  0.099496  0.882579  0.256373  0.385906  0.376787  0.264091  0.941097   \n",
       "3  0.062216  0.095508  0.267857  0.385635  0.520403  0.367938  0.025377   \n",
       "4  0.396948  0.276455  0.103030  0.383432  0.966730  0.751310  0.588982   \n",
       "\n",
       "         14  \n",
       "0  0.466204  \n",
       "1  0.163444  \n",
       "2  0.514971  \n",
       "3  0.176371  \n",
       "4  0.731577  "
      ]
     },
     "execution_count": 1700,
     "metadata": {},
     "output_type": "execute_result"
    }
   ],
   "source": [
    "# 随机抽样\n",
    "small_non_norm_samples = []\n",
    "\n",
    "for i in range(1000):\n",
    "    small_non_norm_samples.append(non_norm_total.sample(15, replace=True).values)\n",
    "\n",
    "small_non_norm_samples = DataFrame(small_non_norm_samples)\n",
    "small_non_norm_samples.head()"
   ]
  },
  {
   "cell_type": "code",
   "execution_count": 1701,
   "metadata": {},
   "outputs": [
    {
     "data": {
      "text/plain": [
       "KstestResult(statistic=0.017110314322451747, pvalue=0.9314956494506456)"
      ]
     },
     "execution_count": 1701,
     "metadata": {},
     "output_type": "execute_result"
    }
   ],
   "source": [
    "small_non_norm_sample_means = DataFrame(small_non_norm_samples).mean(axis=1)\n",
    "stats.kstest(small_non_norm_sample_means, 'norm', (small_non_norm_sample_means.mean(), small_non_norm_sample_means.std()))"
   ]
  },
  {
   "cell_type": "code",
   "execution_count": 1702,
   "metadata": {},
   "outputs": [
    {
     "name": "stdout",
     "output_type": "stream",
     "text": [
      "mean =  0.48694531244877143\n",
      "std =  0.07386109257523561\n"
     ]
    }
   ],
   "source": [
    "print('mean = ', small_non_norm_sample_means.mean())\n",
    "print('std = ', small_non_norm_sample_means.std())"
   ]
  },
  {
   "cell_type": "code",
   "execution_count": 1703,
   "metadata": {},
   "outputs": [
    {
     "data": {
      "text/plain": [
       "Text(0, 0.5, 'number')"
      ]
     },
     "execution_count": 1703,
     "metadata": {},
     "output_type": "execute_result"
    },
    {
     "data": {
      "image/png": "[encoded data removed]",
      "text/plain": [
       "<Figure size 432x288 with 1 Axes>"
      ]
     },
     "metadata": {},
     "output_type": "display_data"
    }
   ],
   "source": [
    "plt.hist(small_non_norm_sample_means)\n",
    "plt.title('The sampling distribution of the mean')\n",
    "plt.ylabel('number')"
   ]
  },
  {
   "cell_type": "markdown",
   "metadata": {},
   "source": [
    "## 3.2 样本比例的抽样分布\n",
    "当n足够大时，根据二项分布的原理和渐进分布的原理可知，p的分布服从均值为π，方差为π(1-π)/n的正态分布"
   ]
  },
  {
   "cell_type": "code",
   "execution_count": 1704,
   "metadata": {},
   "outputs": [
    {
     "data": {
      "text/plain": [
       "0.315"
      ]
     },
     "execution_count": 1704,
     "metadata": {},
     "output_type": "execute_result"
    }
   ],
   "source": [
    "pi = (norm_total <= -0.5).sum() / 1000  # 总体比例\n",
    "pi"
   ]
  },
  {
   "cell_type": "markdown",
   "metadata": {},
   "source": [
    "**大样本**  \n",
    "样本比例抽样分布的期望E(X)=π，Var(X)=π(1-π)/n"
   ]
  },
  {
   "cell_type": "code",
   "execution_count": 1705,
   "metadata": {},
   "outputs": [
    {
     "data": {
      "text/plain": [
       "KstestResult(statistic=0.047935269661664504, pvalue=0.019531313358425912)"
      ]
     },
     "execution_count": 1705,
     "metadata": {},
     "output_type": "execute_result"
    }
   ],
   "source": [
    "large_sample_ps = (large_norm_samples <= -0.5).sum(axis=1) / 200  # 样本比例\n",
    "stats.kstest(large_sample_ps, 'norm', (large_sample_ps.mean(), large_sample_ps.std()))"
   ]
  },
  {
   "cell_type": "code",
   "execution_count": 1706,
   "metadata": {},
   "outputs": [
    {
     "name": "stdout",
     "output_type": "stream",
     "text": [
      "mean =  0.31474500000000044\n",
      "std =  0.03319355037935524\n"
     ]
    }
   ],
   "source": [
    "print('mean = ', large_sample_ps.mean())\n",
    "print('std = ', large_sample_ps.std())"
   ]
  },
  {
   "cell_type": "code",
   "execution_count": 1707,
   "metadata": {},
   "outputs": [
    {
     "data": {
      "text/plain": [
       "Text(0, 0.5, 'number')"
      ]
     },
     "execution_count": 1707,
     "metadata": {},
     "output_type": "execute_result"
    },
    {
     "data": {
      "image/png": "[encoded data removed]",
      "text/plain": [
       "<Figure size 432x288 with 1 Axes>"
      ]
     },
     "metadata": {},
     "output_type": "display_data"
    }
   ],
   "source": [
    "plt.hist(large_sample_ps)\n",
    "plt.title('The sampling distribution of propotion')\n",
    "plt.xlabel('propotion')\n",
    "plt.ylabel('number')"
   ]
  },
  {
   "cell_type": "markdown",
   "metadata": {},
   "source": [
    "**小样本**  \n",
    "样本比例抽样分布的期望E(X)=π，相对于大样本，方差偏大"
   ]
  },
  {
   "cell_type": "code",
   "execution_count": 1708,
   "metadata": {},
   "outputs": [
    {
     "data": {
      "text/plain": [
       "KstestResult(statistic=0.12955518972466212, pvalue=4.293910837462409e-15)"
      ]
     },
     "execution_count": 1708,
     "metadata": {},
     "output_type": "execute_result"
    }
   ],
   "source": [
    "small_sample_ps = (small_norm_samples <= -0.5).sum(axis=1) / 15  # 样本比例\n",
    "stats.kstest(small_sample_ps, 'norm', (small_sample_ps.mean(), small_sample_ps.std()))"
   ]
  },
  {
   "cell_type": "code",
   "execution_count": 1709,
   "metadata": {},
   "outputs": [
    {
     "name": "stdout",
     "output_type": "stream",
     "text": [
      "mean =  0.31886666666666524\n",
      "std =  0.11751156951112884\n"
     ]
    }
   ],
   "source": [
    "print('mean = ', small_sample_ps.mean())\n",
    "print('std = ', small_sample_ps.std())"
   ]
  },
  {
   "cell_type": "code",
   "execution_count": 1710,
   "metadata": {},
   "outputs": [
    {
     "data": {
      "text/plain": [
       "Text(0, 0.5, 'number')"
      ]
     },
     "execution_count": 1710,
     "metadata": {},
     "output_type": "execute_result"
    },
    {
     "data": {
      "image/png": "[encoded data removed]",
      "text/plain": [
       "<Figure size 432x288 with 1 Axes>"
      ]
     },
     "metadata": {},
     "output_type": "display_data"
    }
   ],
   "source": [
    "plt.hist(small_sample_ps)\n",
    "plt.title('The sampling distribution of propotion')\n",
    "plt.xlabel('propotion')\n",
    "plt.ylabel('number')"
   ]
  },
  {
   "cell_type": "markdown",
   "metadata": {},
   "source": [
    "## 3.3 样本方差的抽样分布\n",
    "若样本X1,X2,...Xn来自于正态分布总体，则样本方差服从自由度为样本量减一的卡方分布(n-1)S<sup>2</sup>/σ<sup>2</sup>~χ<sup>2</sup>(n-1)  \n",
    "χ<sup>2</sup>分布E(X)=n，Var(X)=2n  \n",
    "χ<sup>2</sup>分布自由度越大越接近于正态分布"
   ]
  },
  {
   "cell_type": "code",
   "execution_count": 1711,
   "metadata": {},
   "outputs": [],
   "source": [
    "chis = 14 * small_norm_samples.var(axis=1) / norm_total.var()"
   ]
  },
  {
   "cell_type": "code",
   "execution_count": 1712,
   "metadata": {},
   "outputs": [
    {
     "name": "stdout",
     "output_type": "stream",
     "text": [
      "mean =  14.167557510016506\n",
      "var =  28.888454117988697\n"
     ]
    }
   ],
   "source": [
    "print('mean = ', chis.mean())\n",
    "print('var = ', chis.var())"
   ]
  },
  {
   "cell_type": "code",
   "execution_count": 1713,
   "metadata": {},
   "outputs": [
    {
     "data": {
      "text/plain": [
       "Text(0, 0.5, 'number')"
      ]
     },
     "execution_count": 1713,
     "metadata": {},
     "output_type": "execute_result"
    },
    {
     "data": {
      "image/png": "[encoded data removed]",
      "text/plain": [
       "<Figure size 432x288 with 1 Axes>"
      ]
     },
     "metadata": {},
     "output_type": "display_data"
    }
   ],
   "source": [
    "plt.hist(chis)\n",
    "plt.title('The sampling distribution of the chi')\n",
    "plt.ylabel('number')"
   ]
  },
  {
   "cell_type": "markdown",
   "metadata": {},
   "source": [
    "## 3.4 样本方差比的抽样分布\n",
    "若样本X1,X2,...Xn以及Y1,Y2,...Yn分别来自于两个正态分布总体，且X、Y相互独立，则(S<sub>x</sub><sup>2</sup>/σ<sub>x</sub><sup>2</sup>)/(S<sub>y</sub><sup>2</sup>/σ<sub>y</sub><sup>2</sup>)~F(n<sub>x</sub>-1, n<sub>y</sub>-1)  \n",
    "F(m, n)分布E(X)=n/n-2(n>2),D(X)=(2n<sup>2</sup>×(m+n-2))/(m(n-2)<sup>2</sup>×(n-4))(n>4)"
   ]
  },
  {
   "cell_type": "code",
   "execution_count": 1717,
   "metadata": {},
   "outputs": [
    {
     "data": {
      "text/plain": [
       "KstestResult(statistic=0.019333315546699925, pvalue=0.8488746162849157)"
      ]
     },
     "execution_count": 1717,
     "metadata": {},
     "output_type": "execute_result"
    }
   ],
   "source": [
    "# 构建一个新的正态总体\n",
    "norm_total1 = Series(np.random.normal(0, 1, size=1000))  # 正态分布总体（μ=0，σ=1）\n",
    "stats.kstest(norm_total1, 'norm', (norm_total1.mean(), norm_total1.std()))"
   ]
  },
  {
   "cell_type": "code",
   "execution_count": 1718,
   "metadata": {},
   "outputs": [
    {
     "name": "stdout",
     "output_type": "stream",
     "text": [
      "mean =  -0.018065953626926538\n",
      "std =  0.9783415223282768\n"
     ]
    }
   ],
   "source": [
    "print('mean = ', norm_total1.mean())\n",
    "print('std = ', norm_total1.std())"
   ]
  },
  {
   "cell_type": "code",
   "execution_count": 1719,
   "metadata": {},
   "outputs": [
    {
     "data": {
      "text/plain": [
       "Text(0, 0.5, 'number')"
      ]
     },
     "execution_count": 1719,
     "metadata": {},
     "output_type": "execute_result"
    },
    {
     "data": {
      "image/png": "[encoded data removed]",
      "text/plain": [
       "<Figure size 432x288 with 1 Axes>"
      ]
     },
     "metadata": {},
     "output_type": "display_data"
    }
   ],
   "source": [
    "plt.hist(norm_total1)\n",
    "plt.title('Distribution of total data')\n",
    "plt.ylabel('number')"
   ]
  },
  {
   "cell_type": "code",
   "execution_count": 1720,
   "metadata": {},
   "outputs": [
    {
     "data": {
      "text/html": [
       "<div>\n",
       "<style scoped>\n",
       "    .dataframe tbody tr th:only-of-type {\n",
       "        vertical-align: middle;\n",
       "    }\n",
       "\n",
       "    .dataframe tbody tr th {\n",
       "        vertical-align: top;\n",
       "    }\n",
       "\n",
       "    .dataframe thead th {\n",
       "        text-align: right;\n",
       "    }\n",
       "</style>\n",
       "<table border=\"1\" class=\"dataframe\">\n",
       "  <thead>\n",
       "    <tr style=\"text-align: right;\">\n",
       "      <th></th>\n",
       "      <th>0</th>\n",
       "      <th>1</th>\n",
       "      <th>2</th>\n",
       "      <th>3</th>\n",
       "      <th>4</th>\n",
       "      <th>5</th>\n",
       "      <th>6</th>\n",
       "      <th>7</th>\n",
       "      <th>8</th>\n",
       "      <th>9</th>\n",
       "      <th>10</th>\n",
       "      <th>11</th>\n",
       "      <th>12</th>\n",
       "      <th>13</th>\n",
       "      <th>14</th>\n",
       "      <th>15</th>\n",
       "      <th>16</th>\n",
       "      <th>17</th>\n",
       "      <th>18</th>\n",
       "      <th>19</th>\n",
       "    </tr>\n",
       "  </thead>\n",
       "  <tbody>\n",
       "    <tr>\n",
       "      <th>0</th>\n",
       "      <td>-1.443514</td>\n",
       "      <td>0.425573</td>\n",
       "      <td>0.955339</td>\n",
       "      <td>0.871140</td>\n",
       "      <td>1.383448</td>\n",
       "      <td>0.960531</td>\n",
       "      <td>-0.996204</td>\n",
       "      <td>-1.177200</td>\n",
       "      <td>1.493805</td>\n",
       "      <td>-0.857352</td>\n",
       "      <td>-0.591697</td>\n",
       "      <td>0.005001</td>\n",
       "      <td>0.608866</td>\n",
       "      <td>0.371816</td>\n",
       "      <td>-0.857297</td>\n",
       "      <td>0.629913</td>\n",
       "      <td>-0.583451</td>\n",
       "      <td>0.310519</td>\n",
       "      <td>-0.068004</td>\n",
       "      <td>0.286538</td>\n",
       "    </tr>\n",
       "    <tr>\n",
       "      <th>1</th>\n",
       "      <td>-0.225004</td>\n",
       "      <td>0.340141</td>\n",
       "      <td>0.061925</td>\n",
       "      <td>1.282299</td>\n",
       "      <td>-0.711816</td>\n",
       "      <td>1.105160</td>\n",
       "      <td>-0.059799</td>\n",
       "      <td>-0.934207</td>\n",
       "      <td>1.606551</td>\n",
       "      <td>0.185124</td>\n",
       "      <td>-0.857297</td>\n",
       "      <td>-0.182019</td>\n",
       "      <td>-0.797719</td>\n",
       "      <td>-0.757847</td>\n",
       "      <td>1.150791</td>\n",
       "      <td>1.883837</td>\n",
       "      <td>0.435404</td>\n",
       "      <td>-1.453066</td>\n",
       "      <td>-3.116930</td>\n",
       "      <td>-0.189684</td>\n",
       "    </tr>\n",
       "    <tr>\n",
       "      <th>2</th>\n",
       "      <td>1.384307</td>\n",
       "      <td>0.871140</td>\n",
       "      <td>1.747952</td>\n",
       "      <td>-0.043909</td>\n",
       "      <td>1.282299</td>\n",
       "      <td>0.975143</td>\n",
       "      <td>-0.815992</td>\n",
       "      <td>-1.493950</td>\n",
       "      <td>-0.021020</td>\n",
       "      <td>-0.560665</td>\n",
       "      <td>0.428884</td>\n",
       "      <td>1.257044</td>\n",
       "      <td>-0.141914</td>\n",
       "      <td>0.046432</td>\n",
       "      <td>-0.081481</td>\n",
       "      <td>-0.298422</td>\n",
       "      <td>0.777346</td>\n",
       "      <td>-1.179787</td>\n",
       "      <td>-0.460303</td>\n",
       "      <td>0.910441</td>\n",
       "    </tr>\n",
       "    <tr>\n",
       "      <th>3</th>\n",
       "      <td>-0.338611</td>\n",
       "      <td>-0.565043</td>\n",
       "      <td>0.707815</td>\n",
       "      <td>-1.267092</td>\n",
       "      <td>2.090088</td>\n",
       "      <td>-0.384967</td>\n",
       "      <td>0.301590</td>\n",
       "      <td>0.621483</td>\n",
       "      <td>0.198407</td>\n",
       "      <td>-1.659100</td>\n",
       "      <td>-0.318506</td>\n",
       "      <td>-0.462883</td>\n",
       "      <td>0.737972</td>\n",
       "      <td>-0.790542</td>\n",
       "      <td>1.181355</td>\n",
       "      <td>-0.840847</td>\n",
       "      <td>0.275200</td>\n",
       "      <td>-1.507455</td>\n",
       "      <td>0.270461</td>\n",
       "      <td>1.384307</td>\n",
       "    </tr>\n",
       "    <tr>\n",
       "      <th>4</th>\n",
       "      <td>-0.880585</td>\n",
       "      <td>-1.659100</td>\n",
       "      <td>0.253515</td>\n",
       "      <td>-0.206669</td>\n",
       "      <td>-0.560665</td>\n",
       "      <td>-1.625978</td>\n",
       "      <td>0.447960</td>\n",
       "      <td>-1.137815</td>\n",
       "      <td>0.980962</td>\n",
       "      <td>-1.396582</td>\n",
       "      <td>-0.238731</td>\n",
       "      <td>-0.629610</td>\n",
       "      <td>0.643521</td>\n",
       "      <td>-0.260294</td>\n",
       "      <td>-0.337523</td>\n",
       "      <td>1.352023</td>\n",
       "      <td>-2.039987</td>\n",
       "      <td>-0.314055</td>\n",
       "      <td>-2.026158</td>\n",
       "      <td>0.670707</td>\n",
       "    </tr>\n",
       "  </tbody>\n",
       "</table>\n",
       "</div>"
      ],
      "text/plain": [
       "          0         1         2         3         4         5         6  \\\n",
       "0 -1.443514  0.425573  0.955339  0.871140  1.383448  0.960531 -0.996204   \n",
       "1 -0.225004  0.340141  0.061925  1.282299 -0.711816  1.105160 -0.059799   \n",
       "2  1.384307  0.871140  1.747952 -0.043909  1.282299  0.975143 -0.815992   \n",
       "3 -0.338611 -0.565043  0.707815 -1.267092  2.090088 -0.384967  0.301590   \n",
       "4 -0.880585 -1.659100  0.253515 -0.206669 -0.560665 -1.625978  0.447960   \n",
       "\n",
       "          7         8         9        10        11        12        13  \\\n",
       "0 -1.177200  1.493805 -0.857352 -0.591697  0.005001  0.608866  0.371816   \n",
       "1 -0.934207  1.606551  0.185124 -0.857297 -0.182019 -0.797719 -0.757847   \n",
       "2 -1.493950 -0.021020 -0.560665  0.428884  1.257044 -0.141914  0.046432   \n",
       "3  0.621483  0.198407 -1.659100 -0.318506 -0.462883  0.737972 -0.790542   \n",
       "4 -1.137815  0.980962 -1.396582 -0.238731 -0.629610  0.643521 -0.260294   \n",
       "\n",
       "         14        15        16        17        18        19  \n",
       "0 -0.857297  0.629913 -0.583451  0.310519 -0.068004  0.286538  \n",
       "1  1.150791  1.883837  0.435404 -1.453066 -3.116930 -0.189684  \n",
       "2 -0.081481 -0.298422  0.777346 -1.179787 -0.460303  0.910441  \n",
       "3  1.181355 -0.840847  0.275200 -1.507455  0.270461  1.384307  \n",
       "4 -0.337523  1.352023 -2.039987 -0.314055 -2.026158  0.670707  "
      ]
     },
     "execution_count": 1720,
     "metadata": {},
     "output_type": "execute_result"
    }
   ],
   "source": [
    "# 随机抽样\n",
    "small_norm_samples1 = []\n",
    "\n",
    "for i in range(1000):\n",
    "    small_norm_samples1.append(norm_total1.sample(20).values)\n",
    "\n",
    "small_norm_samples1 = DataFrame(small_norm_samples1)\n",
    "small_norm_samples1.head()"
   ]
  },
  {
   "cell_type": "code",
   "execution_count": 1723,
   "metadata": {},
   "outputs": [],
   "source": [
    "Fs = (small_norm_samples1.var(axis=1) / norm_total1.var()) / (small_norm_samples.var(axis=1) / norm_total.var())  # F(19, 14)"
   ]
  },
  {
   "cell_type": "code",
   "execution_count": 1724,
   "metadata": {},
   "outputs": [
    {
     "name": "stdout",
     "output_type": "stream",
     "text": [
      "mean =  1.1778498338973276\n",
      "var =  0.448467374670366\n"
     ]
    }
   ],
   "source": [
    "print('mean = ', Fs.mean())\n",
    "print('var = ', Fs.var())"
   ]
  },
  {
   "cell_type": "code",
   "execution_count": 1725,
   "metadata": {},
   "outputs": [
    {
     "data": {
      "text/plain": [
       "Text(0.5, 1.0, 'Distribution of F')"
      ]
     },
     "execution_count": 1725,
     "metadata": {},
     "output_type": "execute_result"
    },
    {
     "data": {
      "image/png": "[encoded data removed]",
      "text/plain": [
       "<Figure size 432x288 with 1 Axes>"
      ]
     },
     "metadata": {},
     "output_type": "display_data"
    }
   ],
   "source": [
    "plt.hist(Fs)\n",
    "plt.title('Distribution of F')"
   ]
  },
  {
   "cell_type": "markdown",
   "metadata": {},
   "source": [
    "## 4 参数估计\n",
    "根据样本信息来推断总体参数"
   ]
  },
  {
   "cell_type": "code",
   "execution_count": 1755,
   "metadata": {},
   "outputs": [],
   "source": [
    "%matplotlib inline\n",
    "import matplotlib.pyplot as plt\n",
    "import seaborn; seaborn.set()\n",
    "import numpy as np\n",
    "import pandas as pd\n",
    "from pandas import DataFrame, Series\n",
    "import random\n",
    "np.random.seed(0)"
   ]
  },
  {
   "cell_type": "markdown",
   "metadata": {},
   "source": [
    "**正态总体**"
   ]
  },
  {
   "cell_type": "code",
   "execution_count": 1726,
   "metadata": {
    "scrolled": true
   },
   "outputs": [
    {
     "data": {
      "text/plain": [
       "KstestResult(statistic=0.015404579091833792, pvalue=0.9715819888034268)"
      ]
     },
     "execution_count": 1726,
     "metadata": {},
     "output_type": "execute_result"
    }
   ],
   "source": [
    "norm_total = Series(np.random.normal(0, 1, size=1000))  # 正态分布总体（μ=0，σ=1）\n",
    "stats.kstest(norm_total, 'norm', (norm_total.mean(), norm_total.std()))"
   ]
  },
  {
   "cell_type": "code",
   "execution_count": 1727,
   "metadata": {},
   "outputs": [
    {
     "name": "stdout",
     "output_type": "stream",
     "text": [
      "mean =  -0.005675573070433379\n",
      "std =  0.9803267901701055\n"
     ]
    }
   ],
   "source": [
    "print('mean = ', norm_total.mean())\n",
    "print('std = ', norm_total.std())"
   ]
  },
  {
   "cell_type": "code",
   "execution_count": 1728,
   "metadata": {},
   "outputs": [
    {
     "data": {
      "text/plain": [
       "Text(0, 0.5, 'number')"
      ]
     },
     "execution_count": 1728,
     "metadata": {},
     "output_type": "execute_result"
    },
    {
     "data": {
      "image/png": "[encoded data removed]",
      "text/plain": [
       "<Figure size 432x288 with 1 Axes>"
      ]
     },
     "metadata": {},
     "output_type": "display_data"
    }
   ],
   "source": [
    "plt.hist(norm_total)\n",
    "plt.title('Distribution of total data')\n",
    "plt.ylabel('number')"
   ]
  },
  {
   "cell_type": "code",
   "execution_count": 1730,
   "metadata": {},
   "outputs": [],
   "source": [
    "# 随机抽样\n",
    "large_norm_samples = []\n",
    "small_norm_samples = []\n",
    "\n",
    "for i in range(1000):\n",
    "    large_norm_samples.append(norm_total.sample(200, replace=True).values)\n",
    "    small_norm_samples.append(norm_total.sample(15, replace=True).values)\n",
    "\n",
    "large_norm_samples = DataFrame(large_norm_samples)\n",
    "small_norm_samples = DataFrame(small_norm_samples)"
   ]
  },
  {
   "cell_type": "markdown",
   "metadata": {},
   "source": [
    "**非正态总体**"
   ]
  },
  {
   "cell_type": "code",
   "execution_count": 1731,
   "metadata": {},
   "outputs": [],
   "source": [
    "non_norm_total = Series(np.random.rand(1000))"
   ]
  },
  {
   "cell_type": "code",
   "execution_count": 1732,
   "metadata": {},
   "outputs": [
    {
     "name": "stdout",
     "output_type": "stream",
     "text": [
      "mean =  0.4892216471970835\n",
      "std =  0.29242055819631535\n"
     ]
    }
   ],
   "source": [
    "print('mean = ', non_norm_total.mean())\n",
    "print('std = ', non_norm_total.std())"
   ]
  },
  {
   "cell_type": "code",
   "execution_count": 1733,
   "metadata": {},
   "outputs": [
    {
     "data": {
      "text/plain": [
       "Text(0, 0.5, 'number')"
      ]
     },
     "execution_count": 1733,
     "metadata": {},
     "output_type": "execute_result"
    },
    {
     "data": {
      "image/png": "[encoded data removed]",
      "text/plain": [
       "<Figure size 432x288 with 1 Axes>"
      ]
     },
     "metadata": {},
     "output_type": "display_data"
    }
   ],
   "source": [
    "plt.hist(non_norm_total)\n",
    "plt.title('Distribution of non-norm data')\n",
    "plt.ylabel('number')"
   ]
  },
  {
   "cell_type": "code",
   "execution_count": 1734,
   "metadata": {},
   "outputs": [],
   "source": [
    "# 随机抽样\n",
    "large_non_norm_samples = []\n",
    "small_non_norm_samples = []\n",
    "\n",
    "for i in range(1000):\n",
    "    large_non_norm_samples.append(non_norm_total.sample(200, replace=True).values)\n",
    "    small_non_norm_samples.append(non_norm_total.sample(15, replace=True).values)\n",
    "\n",
    "large_non_norm_samples = DataFrame(large_non_norm_samples)\n",
    "small_non_norm_samples = DataFrame(small_non_norm_samples)"
   ]
  },
  {
   "cell_type": "markdown",
   "metadata": {},
   "source": [
    "## 4.1 Bootstrap方法\n",
    "详解：https://zhuanlan.zhihu.com/p/41099219"
   ]
  },
  {
   "cell_type": "code",
   "execution_count": 1874,
   "metadata": {},
   "outputs": [],
   "source": [
    "small_sample = small_non_norm_samples.loc[100]"
   ]
  },
  {
   "cell_type": "code",
   "execution_count": 1875,
   "metadata": {},
   "outputs": [],
   "source": [
    "# 自抽样\n",
    "small_samples = []\n",
    "\n",
    "for i in range(1000):\n",
    "    small_samples.append(small_sample.sample(10, replace=True).values)\n",
    "\n",
    "small_samples = DataFrame(small_samples)"
   ]
  },
  {
   "cell_type": "code",
   "execution_count": 1881,
   "metadata": {},
   "outputs": [],
   "source": [
    "small_sample_means = small_samples.mean(axis=1)\n",
    "small_sample_vars = small_samples.var(axis=1)"
   ]
  },
  {
   "cell_type": "markdown",
   "metadata": {},
   "source": [
    "**均值**"
   ]
  },
  {
   "cell_type": "code",
   "execution_count": 1877,
   "metadata": {},
   "outputs": [
    {
     "name": "stdout",
     "output_type": "stream",
     "text": [
      "均值： 0.479177596221996\n",
      "95%置信区间(Bootstrap)： [ 0.33554518252861626 ,  0.648155203547846 ]\n",
      "95%置信区间: [ 0.3365870123237671 ,  0.621768180120225 ]\n"
     ]
    }
   ],
   "source": [
    "err = 2.1448*small_sample.std()/math.sqrt(15)\n",
    "\n",
    "print('均值：', small_sample.mean())\n",
    "print('95%置信区间(Bootstrap)：', '[', small_sample_means.quantile(0.025), ', ', small_sample_means.quantile(0.975), ']')\n",
    "print('95%置信区间:', '[', small_sample.mean()-err, ', ', small_sample.mean()+err, ']')"
   ]
  },
  {
   "cell_type": "code",
   "execution_count": 1878,
   "metadata": {},
   "outputs": [
    {
     "data": {
      "text/plain": [
       "Text(0, 0.5, 'number')"
      ]
     },
     "execution_count": 1878,
     "metadata": {},
     "output_type": "execute_result"
    },
    {
     "data": {
      "image/png": "[encoded data removed]",
      "text/plain": [
       "<Figure size 432x288 with 1 Axes>"
      ]
     },
     "metadata": {},
     "output_type": "display_data"
    }
   ],
   "source": [
    "plt.hist(small_sample_means)\n",
    "plt.title('The sampling distribution of mean')\n",
    "plt.xlabel('mean')\n",
    "plt.ylabel('number')"
   ]
  },
  {
   "cell_type": "markdown",
   "metadata": {},
   "source": [
    "**方差**"
   ]
  },
  {
   "cell_type": "code",
   "execution_count": 1886,
   "metadata": {},
   "outputs": [
    {
     "name": "stdout",
     "output_type": "stream",
     "text": [
      "方差： 0.06629783583827596\n",
      "95%置信区间(Bootstrap)： [ 0.013315860545125062 ,  0.10838809654048065 ]\n",
      "95%置信区间： [ 0.0355363243373903 ,  0.1648994797619101 ]\n"
     ]
    }
   ],
   "source": [
    "print('方差：', small_sample.var())\n",
    "print('95%置信区间(Bootstrap)：', '[', small_sample_vars.quantile(0.025), ', ', small_sample_vars.quantile(0.975), ']')\n",
    "print('95%置信区间：', '[', 14*small_sample.var()/26.1189, ', ', 14*small_sample.var()/5.6287, ']')"
   ]
  },
  {
   "cell_type": "code",
   "execution_count": 1887,
   "metadata": {},
   "outputs": [
    {
     "data": {
      "text/plain": [
       "Text(0, 0.5, 'number')"
      ]
     },
     "execution_count": 1887,
     "metadata": {},
     "output_type": "execute_result"
    },
    {
     "data": {
      "image/png": "[encoded data removed]",
      "text/plain": [
       "<Figure size 432x288 with 1 Axes>"
      ]
     },
     "metadata": {},
     "output_type": "display_data"
    }
   ],
   "source": [
    "plt.hist(small_sample_vars)\n",
    "plt.title('The sampling distribution of var')\n",
    "plt.xlabel('var')\n",
    "plt.ylabel('number')"
   ]
  },
  {
   "cell_type": "markdown",
   "metadata": {},
   "source": [
    "## 4.1 均值"
   ]
  },
  {
   "cell_type": "markdown",
   "metadata": {},
   "source": [
    "### 4.11 总体服从正态\n",
    "* 对于大样本而言，相同置信度下，使用z统计量误差较小,但是抽取到不包含均值的样本概率增大\n",
    "* 对于小样本而言，相同置信度下，使用t统计量误差虽然增大，但是抽取到不包含均值的样本概率减小\n",
    "* 一般而言，对于大样本使用z统计量；对于小样本使用t统计量"
   ]
  },
  {
   "cell_type": "code",
   "execution_count": 1657,
   "metadata": {},
   "outputs": [],
   "source": [
    "import math"
   ]
  },
  {
   "cell_type": "code",
   "execution_count": 922,
   "metadata": {},
   "outputs": [
    {
     "data": {
      "text/plain": [
       "0.9957063024858961"
      ]
     },
     "execution_count": 922,
     "metadata": {},
     "output_type": "execute_result"
    }
   ],
   "source": [
    "total_std = total.std()    # 总体标准差\n",
    "total_std"
   ]
  },
  {
   "cell_type": "code",
   "execution_count": 940,
   "metadata": {},
   "outputs": [],
   "source": [
    "# 样本均值\n",
    "large_sample_means = DataFrame(large_samples).mean(axis=1)  \n",
    "small_sample_means = DataFrame(small_samples).mean(axis=1)"
   ]
  },
  {
   "cell_type": "code",
   "execution_count": 998,
   "metadata": {},
   "outputs": [],
   "source": [
    "# 样本标准差\n",
    "large_sample_stds = DataFrame(large_samples).std(axis=1) \n",
    "small_sample_stds = DataFrame(small_samples).std(axis=1)"
   ]
  },
  {
   "cell_type": "markdown",
   "metadata": {},
   "source": [
    "**大样本且已知总体σ**  "
   ]
  },
  {
   "cell_type": "markdown",
   "metadata": {},
   "source": [
    "z统计量"
   ]
  },
  {
   "cell_type": "code",
   "execution_count": 924,
   "metadata": {},
   "outputs": [
    {
     "name": "stdout",
     "output_type": "stream",
     "text": [
      "err =  0.2759957059947206\n"
     ]
    }
   ],
   "source": [
    "err = 1.96*total_std/math.sqrt(50)\n",
    "print('err = ', err)"
   ]
  },
  {
   "cell_type": "code",
   "execution_count": 925,
   "metadata": {},
   "outputs": [],
   "source": [
    "Theta_L = large_sample_means - err  # 95%置信区间下限\n",
    "Theta_U = large_sample_means + err  # 95%置信区间上限"
   ]
  },
  {
   "cell_type": "code",
   "execution_count": 926,
   "metadata": {},
   "outputs": [
    {
     "data": {
      "text/plain": [
       "<matplotlib.collections.PolyCollection at 0x1948920a6d8>"
      ]
     },
     "execution_count": 926,
     "metadata": {},
     "output_type": "execute_result"
    },
    {
     "data": {
      "image/png": "[encoded data removed]",
      "text/plain": [
       "<Figure size 432x288 with 1 Axes>"
      ]
     },
     "metadata": {},
     "output_type": "display_data"
    }
   ],
   "source": [
    "plt.plot(np.zeros(100))\n",
    "plt.plot(np.arange(100), Theta_L[:100], Theta_U[:100], color=\"blue\")\n",
    "plt.fill_between(np.arange(100), Theta_L[:100], Theta_U[:100], facecolor=\"blue\", alpha=0.3)"
   ]
  },
  {
   "cell_type": "code",
   "execution_count": 927,
   "metadata": {},
   "outputs": [
    {
     "data": {
      "text/plain": [
       "0.037"
      ]
     },
     "execution_count": 927,
     "metadata": {},
     "output_type": "execute_result"
    }
   ],
   "source": [
    "p = ((Theta_U < 0) | (Theta_L > 0)).sum() / 1000  # 抽取到不包含均值的样本概率\n",
    "p"
   ]
  },
  {
   "cell_type": "markdown",
   "metadata": {},
   "source": [
    "t统计量"
   ]
  },
  {
   "cell_type": "code",
   "execution_count": 928,
   "metadata": {},
   "outputs": [
    {
     "name": "stdout",
     "output_type": "stream",
     "text": [
      "err =  0.31854973780676377\n"
     ]
    }
   ],
   "source": [
    "err = 2.2622*total_std/math.sqrt(50)\n",
    "print('err = ', err)"
   ]
  },
  {
   "cell_type": "code",
   "execution_count": 929,
   "metadata": {},
   "outputs": [],
   "source": [
    "Theta_L1 = large_sample_means - err  # 95%置信区间下限\n",
    "Theta_U1 = large_sample_means + err  # 95%置信区间上限"
   ]
  },
  {
   "cell_type": "code",
   "execution_count": 930,
   "metadata": {},
   "outputs": [
    {
     "data": {
      "text/plain": [
       "<matplotlib.collections.PolyCollection at 0x19488b01ef0>"
      ]
     },
     "execution_count": 930,
     "metadata": {},
     "output_type": "execute_result"
    },
    {
     "data": {
      "image/png": "[encoded data removed]",
      "text/plain": [
       "<Figure size 432x288 with 1 Axes>"
      ]
     },
     "metadata": {},
     "output_type": "display_data"
    }
   ],
   "source": [
    "plt.plot(np.zeros(100))\n",
    "plt.plot(np.arange(100), Theta_L1[:100], Theta_U1[:100], color=\"blue\")\n",
    "plt.fill_between(np.arange(100), Theta_L1[:100], Theta_U1[:100], facecolor=\"blue\", alpha=0.3)"
   ]
  },
  {
   "cell_type": "code",
   "execution_count": 931,
   "metadata": {},
   "outputs": [
    {
     "data": {
      "text/plain": [
       "0.015"
      ]
     },
     "execution_count": 931,
     "metadata": {},
     "output_type": "execute_result"
    }
   ],
   "source": [
    "p = ((Theta_U1< 0) | (Theta_L1 > 0)).sum() / 1000\n",
    "p"
   ]
  },
  {
   "cell_type": "markdown",
   "metadata": {},
   "source": [
    "**大样本且总体未知σ**  "
   ]
  },
  {
   "cell_type": "markdown",
   "metadata": {},
   "source": [
    "z统计量"
   ]
  },
  {
   "cell_type": "code",
   "execution_count": 1000,
   "metadata": {},
   "outputs": [
    {
     "data": {
      "text/plain": [
       "0.27424244765252154"
      ]
     },
     "execution_count": 1000,
     "metadata": {},
     "output_type": "execute_result"
    }
   ],
   "source": [
    "err = 1.96*large_sample_stds/math.sqrt(50)\n",
    "err.mean()"
   ]
  },
  {
   "cell_type": "code",
   "execution_count": 1001,
   "metadata": {},
   "outputs": [],
   "source": [
    "Theta_L = large_sample_means - err  # 95%置信区间下限\n",
    "Theta_U = large_sample_means + err  # 95%置信区间上限"
   ]
  },
  {
   "cell_type": "code",
   "execution_count": 1002,
   "metadata": {},
   "outputs": [
    {
     "data": {
      "text/plain": [
       "<matplotlib.collections.PolyCollection at 0x1948960b710>"
      ]
     },
     "execution_count": 1002,
     "metadata": {},
     "output_type": "execute_result"
    },
    {
     "data": {
      "image/png": "[encoded data removed]",
      "text/plain": [
       "<Figure size 432x288 with 1 Axes>"
      ]
     },
     "metadata": {},
     "output_type": "display_data"
    }
   ],
   "source": [
    "plt.plot(np.zeros(100))\n",
    "plt.plot(np.arange(100), Theta_L[:100], Theta_U[:100], color=\"blue\")\n",
    "plt.fill_between(np.arange(100), Theta_L[:100], Theta_U[:100], facecolor=\"blue\", alpha=0.3)"
   ]
  },
  {
   "cell_type": "code",
   "execution_count": 1003,
   "metadata": {},
   "outputs": [
    {
     "data": {
      "text/plain": [
       "0.042"
      ]
     },
     "execution_count": 1003,
     "metadata": {},
     "output_type": "execute_result"
    }
   ],
   "source": [
    "p = ((Theta_U < 0) | (Theta_L > 0)).sum() / 1000  # 抽取到不包含均值的样本概率\n",
    "p"
   ]
  },
  {
   "cell_type": "markdown",
   "metadata": {},
   "source": [
    "**小样本且已知总体σ**"
   ]
  },
  {
   "cell_type": "markdown",
   "metadata": {},
   "source": [
    "t统计量"
   ]
  },
  {
   "cell_type": "code",
   "execution_count": 932,
   "metadata": {},
   "outputs": [
    {
     "name": "stdout",
     "output_type": "stream",
     "text": [
      "err =  0.7122988679506586\n"
     ]
    }
   ],
   "source": [
    "err = 2.2622*total_std/math.sqrt(10)\n",
    "print('err = ', err)"
   ]
  },
  {
   "cell_type": "code",
   "execution_count": 933,
   "metadata": {},
   "outputs": [],
   "source": [
    "STheta_L = small_sample_means - err  # 95%置信区间下限\n",
    "STheta_U = small_sample_means + err  # 95%置信区间上限"
   ]
  },
  {
   "cell_type": "code",
   "execution_count": 934,
   "metadata": {},
   "outputs": [
    {
     "data": {
      "text/plain": [
       "<matplotlib.collections.PolyCollection at 0x19488d795f8>"
      ]
     },
     "execution_count": 934,
     "metadata": {},
     "output_type": "execute_result"
    },
    {
     "data": {
      "image/png": "[encoded data removed]",
      "text/plain": [
       "<Figure size 432x288 with 1 Axes>"
      ]
     },
     "metadata": {},
     "output_type": "display_data"
    }
   ],
   "source": [
    "plt.plot(np.zeros(100))\n",
    "plt.plot(np.arange(100), STheta_L[:100], STheta_U[:100], color=\"blue\")\n",
    "plt.fill_between(np.arange(100), STheta_L[:100], STheta_U[:100], facecolor=\"blue\", alpha=0.3)"
   ]
  },
  {
   "cell_type": "code",
   "execution_count": 935,
   "metadata": {},
   "outputs": [
    {
     "data": {
      "text/plain": [
       "0.025"
      ]
     },
     "execution_count": 935,
     "metadata": {},
     "output_type": "execute_result"
    }
   ],
   "source": [
    "p = ((STheta_U < 0) | (STheta_L > 0)).sum() / 1000\n",
    "p"
   ]
  },
  {
   "cell_type": "markdown",
   "metadata": {},
   "source": [
    "**小样本且总体σ未知**"
   ]
  },
  {
   "cell_type": "markdown",
   "metadata": {},
   "source": [
    "t统计量"
   ]
  },
  {
   "cell_type": "code",
   "execution_count": 942,
   "metadata": {},
   "outputs": [
    {
     "data": {
      "text/plain": [
       "0.6928995405172267"
      ]
     },
     "execution_count": 942,
     "metadata": {},
     "output_type": "execute_result"
    }
   ],
   "source": [
    "err = 2.2622*small_sample_stds/math.sqrt(10)\n",
    "err.mean()"
   ]
  },
  {
   "cell_type": "code",
   "execution_count": 943,
   "metadata": {},
   "outputs": [],
   "source": [
    "STheta_L = small_sample_means - err  # 95%置信区间下限\n",
    "STheta_U = small_sample_means + err  # 95%置信区间上限"
   ]
  },
  {
   "cell_type": "code",
   "execution_count": 944,
   "metadata": {},
   "outputs": [
    {
     "data": {
      "text/plain": [
       "<matplotlib.collections.PolyCollection at 0x19488b996a0>"
      ]
     },
     "execution_count": 944,
     "metadata": {},
     "output_type": "execute_result"
    },
    {
     "data": {
      "image/png": "[encoded data removed]",
      "text/plain": [
       "<Figure size 432x288 with 1 Axes>"
      ]
     },
     "metadata": {},
     "output_type": "display_data"
    }
   ],
   "source": [
    "plt.plot(np.zeros(100))\n",
    "plt.plot(np.arange(100), STheta_L[:100], STheta_U[:100], color=\"blue\")\n",
    "plt.fill_between(np.arange(100), STheta_L[:100], STheta_U[:100], facecolor=\"blue\", alpha=0.3)"
   ]
  },
  {
   "cell_type": "code",
   "execution_count": 945,
   "metadata": {},
   "outputs": [
    {
     "data": {
      "text/plain": [
       "0.048"
      ]
     },
     "execution_count": 945,
     "metadata": {},
     "output_type": "execute_result"
    }
   ],
   "source": [
    "p = ((STheta_U < 0) | (STheta_L > 0)).sum() / 1000\n",
    "p"
   ]
  },
  {
   "cell_type": "markdown",
   "metadata": {},
   "source": [
    "### 4.12 总体不服从正态"
   ]
  },
  {
   "cell_type": "code",
   "execution_count": 950,
   "metadata": {},
   "outputs": [
    {
     "data": {
      "text/plain": [
       "0.2866933601455485"
      ]
     },
     "execution_count": 950,
     "metadata": {},
     "output_type": "execute_result"
    }
   ],
   "source": [
    "non_norm_total_std = non_norm_total.std()\n",
    "non_norm_total_std"
   ]
  },
  {
   "cell_type": "code",
   "execution_count": 952,
   "metadata": {},
   "outputs": [],
   "source": [
    "# 样本均值\n",
    "large_nsample_means = DataFrame(large_nsamples).mean(axis=1)\n",
    "small_nsample_means = DataFrame(small_nsamples).mean(axis=1)"
   ]
  },
  {
   "cell_type": "markdown",
   "metadata": {},
   "source": [
    "**大样本且总体σ已知**"
   ]
  },
  {
   "cell_type": "markdown",
   "metadata": {},
   "source": [
    "z统计量"
   ]
  },
  {
   "cell_type": "code",
   "execution_count": 994,
   "metadata": {
    "scrolled": true
   },
   "outputs": [
    {
     "data": {
      "text/plain": [
       "0.07946734507938918"
      ]
     },
     "execution_count": 994,
     "metadata": {},
     "output_type": "execute_result"
    }
   ],
   "source": [
    "err = 1.96*non_norm_total_std/math.sqrt(50)\n",
    "err.mean()"
   ]
  },
  {
   "cell_type": "code",
   "execution_count": 995,
   "metadata": {},
   "outputs": [],
   "source": [
    "Theta_L = large_nsample_means - err  # 95%置信区间下限\n",
    "Theta_U = large_nsample_means + err  # 95%置信区间上限"
   ]
  },
  {
   "cell_type": "code",
   "execution_count": 996,
   "metadata": {},
   "outputs": [
    {
     "data": {
      "text/plain": [
       "<matplotlib.collections.PolyCollection at 0x194893e0e80>"
      ]
     },
     "execution_count": 996,
     "metadata": {},
     "output_type": "execute_result"
    },
    {
     "data": {
      "image/png": "[encoded data removed]",
      "text/plain": [
       "<Figure size 432x288 with 1 Axes>"
      ]
     },
     "metadata": {},
     "output_type": "display_data"
    }
   ],
   "source": [
    "plt.plot(np.zeros(100)+0.49)\n",
    "plt.plot(np.arange(100), Theta_L[:100], Theta_U[:100], color=\"blue\")\n",
    "plt.fill_between(np.arange(100), Theta_L[:100], Theta_U[:100], facecolor=\"blue\", alpha=0.3)"
   ]
  },
  {
   "cell_type": "code",
   "execution_count": 997,
   "metadata": {},
   "outputs": [
    {
     "data": {
      "text/plain": [
       "0.052"
      ]
     },
     "execution_count": 997,
     "metadata": {},
     "output_type": "execute_result"
    }
   ],
   "source": [
    "p = ((Theta_U < 0.49) | (Theta_L > 0.49)).sum() / 1000\n",
    "p"
   ]
  },
  {
   "cell_type": "markdown",
   "metadata": {},
   "source": [
    "**大样本且总体σ未知**"
   ]
  },
  {
   "cell_type": "markdown",
   "metadata": {},
   "source": [
    "z统计量"
   ]
  },
  {
   "cell_type": "code",
   "execution_count": 961,
   "metadata": {},
   "outputs": [],
   "source": [
    "large_nsample_stds = DataFrame(large_nsamples).std(axis=1)"
   ]
  },
  {
   "cell_type": "code",
   "execution_count": 962,
   "metadata": {},
   "outputs": [
    {
     "data": {
      "text/plain": [
       "0.07940186074342"
      ]
     },
     "execution_count": 962,
     "metadata": {},
     "output_type": "execute_result"
    }
   ],
   "source": [
    "err = 1.96*large_nsample_stds/math.sqrt(50)\n",
    "err.mean()"
   ]
  },
  {
   "cell_type": "code",
   "execution_count": 963,
   "metadata": {},
   "outputs": [],
   "source": [
    "Theta_L = large_nsample_means - err  # 95%置信区间下限\n",
    "Theta_U = large_nsample_means + err  # 95%置信区间上限"
   ]
  },
  {
   "cell_type": "code",
   "execution_count": 964,
   "metadata": {},
   "outputs": [
    {
     "data": {
      "text/plain": [
       "<matplotlib.collections.PolyCollection at 0x194892adac8>"
      ]
     },
     "execution_count": 964,
     "metadata": {},
     "output_type": "execute_result"
    },
    {
     "data": {
      "image/png": "[encoded data removed]",
      "text/plain": [
       "<Figure size 432x288 with 1 Axes>"
      ]
     },
     "metadata": {},
     "output_type": "display_data"
    }
   ],
   "source": [
    "plt.plot(np.zeros(100)+0.49)\n",
    "plt.plot(np.arange(100), Theta_L[:100], Theta_U[:100], color=\"blue\")\n",
    "plt.fill_between(np.arange(100), Theta_L[:100], Theta_U[:100], facecolor=\"blue\", alpha=0.3)"
   ]
  },
  {
   "cell_type": "code",
   "execution_count": 965,
   "metadata": {},
   "outputs": [
    {
     "data": {
      "text/plain": [
       "0.058"
      ]
     },
     "execution_count": 965,
     "metadata": {},
     "output_type": "execute_result"
    }
   ],
   "source": [
    "p = ((Theta_U < 0.49) | (Theta_L > 0.49)).sum() / 1000\n",
    "p"
   ]
  },
  {
   "cell_type": "markdown",
   "metadata": {},
   "source": [
    "**小样本**"
   ]
  },
  {
   "cell_type": "code",
   "execution_count": null,
   "metadata": {},
   "outputs": [],
   "source": []
  },
  {
   "cell_type": "code",
   "execution_count": null,
   "metadata": {},
   "outputs": [],
   "source": []
  },
  {
   "cell_type": "code",
   "execution_count": null,
   "metadata": {},
   "outputs": [],
   "source": []
  },
  {
   "cell_type": "code",
   "execution_count": null,
   "metadata": {},
   "outputs": [],
   "source": []
  },
  {
   "cell_type": "code",
   "execution_count": null,
   "metadata": {},
   "outputs": [],
   "source": []
  },
  {
   "cell_type": "code",
   "execution_count": null,
   "metadata": {},
   "outputs": [],
   "source": []
  },
  {
   "cell_type": "code",
   "execution_count": null,
   "metadata": {},
   "outputs": [],
   "source": []
  },
  {
   "cell_type": "code",
   "execution_count": null,
   "metadata": {},
   "outputs": [],
   "source": []
  }
 ],
 "metadata": {
  "kernelspec": {
   "display_name": "Python 3",
   "language": "python",
   "name": "python3"
  },
  "language_info": {
   "codemirror_mode": {
    "name": "ipython",
    "version": 3
   },
   "file_extension": ".py",
   "mimetype": "text/x-python",
   "name": "python",
   "nbconvert_exporter": "python",
   "pygments_lexer": "ipython3",
   "version": "3.7.3"
  }
 },
 "nbformat": 4,
 "nbformat_minor": 4
}
